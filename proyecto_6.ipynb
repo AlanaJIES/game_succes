{
 "cells": [
  {
   "cell_type": "markdown",
   "metadata": {
    "toc": true
   },
   "source": [
    "<h1>Table of Contents<span class=\"tocSkip\"></span></h1>\n",
    "<div class=\"toc\"><ul class=\"toc-item\"><li><span><a href=\"#Paso-1.-Abrimos-el-archivo-de-datos-y-observamos-la-información-general\" data-toc-modified-id=\"Paso-1.-Abrimos-el-archivo-de-datos-y-observamos-la-información-general-1\"><span class=\"toc-item-num\">1&nbsp;&nbsp;</span>Paso 1. Abrimos el archivo de datos y observamos la información general</a></span></li><li><span><a href=\"#Paso-2.-Preparamos-los-datos-para-el-análisis.\" data-toc-modified-id=\"Paso-2.-Preparamos-los-datos-para-el-análisis.-2\"><span class=\"toc-item-num\">2&nbsp;&nbsp;</span>Paso 2. Preparamos los datos para el análisis.</a></span></li><li><span><a href=\"#Paso-3.-Análisis-de-los-datos.\" data-toc-modified-id=\"Paso-3.-Análisis-de-los-datos.-3\"><span class=\"toc-item-num\">3&nbsp;&nbsp;</span>Paso 3. Análisis de los datos.</a></span></li><li><span><a href=\"#Paso-4.-Crear-un-perfil-de-usuario-para-cada-región\" data-toc-modified-id=\"Paso-4.-Crear-un-perfil-de-usuario-para-cada-región-4\"><span class=\"toc-item-num\">4&nbsp;&nbsp;</span>Paso 4. Crear un perfil de usuario para cada región</a></span></li><li><span><a href=\"#Paso-5.-Prueba-las-siguientes-hipótesis:\" data-toc-modified-id=\"Paso-5.-Prueba-las-siguientes-hipótesis:-5\"><span class=\"toc-item-num\">5&nbsp;&nbsp;</span>Paso 5. Prueba las siguientes hipótesis:</a></span></li><li><span><a href=\"#Paso-6.-Escribe-una-conclusión-general\" data-toc-modified-id=\"Paso-6.-Escribe-una-conclusión-general-6\"><span class=\"toc-item-num\">6&nbsp;&nbsp;</span>Paso 6. Escribe una conclusión general</a></span></li></ul></div>"
   ]
  },
  {
   "cell_type": "markdown",
   "metadata": {},
   "source": [
    "En el siguiente proyecto se identificarán patrones que determinen si un juego tiene éxito o no, permitiendo detectar proyectos prometedores y planificar campañas publicitarias para el año 2017 (considerando que los datos abarcan hasta el 2016, aunque esten incompletos)."
   ]
  },
  {
   "cell_type": "markdown",
   "metadata": {},
   "source": [
    "## Paso 1. Abrimos el archivo de datos y observamos la información general"
   ]
  },
  {
   "cell_type": "markdown",
   "metadata": {},
   "source": [
    "Descripción de datos:\n",
    "\n",
    "— Name (Nombre)\n",
    "\n",
    "— Platform (Plataforma)\n",
    "\n",
    "— Year_of_Release (Año de lanzamiento)\n",
    "\n",
    "— Genre (Género) \n",
    "\n",
    "— NA_sales (ventas en Norteamérica en millones de dólares estadounidenses) \n",
    "\n",
    "— EU_sales (ventas en Europa en millones de dólares estadounidenses) \n",
    "\n",
    "— JP_sales (ventas en Japón en millones de dólares estadounidenses) \n",
    "\n",
    "— Other_sales (ventas en otros países en millones de dólares estadounidenses) \n",
    "\n",
    "— Critic_Score (máximo de 100) \n",
    "\n",
    "— User_Score (máximo de 10) \n",
    "\n",
    "— Clasificación (ESRB)"
   ]
  },
  {
   "cell_type": "markdown",
   "metadata": {},
   "source": [
    "Primero importaremos la librería correspondiente, en este caso pandas y numpy. Luego de esto se leemos el archivo como valores separados por comas (el archivo games es csv, de acuerdo a la terminación del mismo). Se imprimen las primeras filas para verificar cual es el delimitador de este archivo, como están los nombres de las columnas, entre otras cosas. Se lee la información general usando el método \"info()\", observando la presencia de datos nulos y el tipo de datos que tenemos en el data frame."
   ]
  },
  {
   "cell_type": "code",
   "execution_count": null,
   "metadata": {},
   "outputs": [],
   "source": [
    "# importar librerías\n",
    "import pandas as pd\n",
    "import numpy as np\n",
    "from matplotlib import pyplot as plt\n",
    "import seaborn as sns\n",
    "from scipy import stats as st"
   ]
  },
  {
   "cell_type": "code",
   "execution_count": 1,
   "metadata": {},
   "outputs": [
    {
     "data": {
      "text/html": [
       "<div>\n",
       "<style scoped>\n",
       "    .dataframe tbody tr th:only-of-type {\n",
       "        vertical-align: middle;\n",
       "    }\n",
       "\n",
       "    .dataframe tbody tr th {\n",
       "        vertical-align: top;\n",
       "    }\n",
       "\n",
       "    .dataframe thead th {\n",
       "        text-align: right;\n",
       "    }\n",
       "</style>\n",
       "<table border=\"1\" class=\"dataframe\">\n",
       "  <thead>\n",
       "    <tr style=\"text-align: right;\">\n",
       "      <th></th>\n",
       "      <th>Name</th>\n",
       "      <th>Platform</th>\n",
       "      <th>Year_of_Release</th>\n",
       "      <th>Genre</th>\n",
       "      <th>NA_sales</th>\n",
       "      <th>EU_sales</th>\n",
       "      <th>JP_sales</th>\n",
       "      <th>Other_sales</th>\n",
       "      <th>Critic_Score</th>\n",
       "      <th>User_Score</th>\n",
       "      <th>Rating</th>\n",
       "    </tr>\n",
       "  </thead>\n",
       "  <tbody>\n",
       "    <tr>\n",
       "      <th>0</th>\n",
       "      <td>Wii Sports</td>\n",
       "      <td>Wii</td>\n",
       "      <td>2006.0</td>\n",
       "      <td>Sports</td>\n",
       "      <td>41.36</td>\n",
       "      <td>28.96</td>\n",
       "      <td>3.77</td>\n",
       "      <td>8.45</td>\n",
       "      <td>76.0</td>\n",
       "      <td>8</td>\n",
       "      <td>E</td>\n",
       "    </tr>\n",
       "    <tr>\n",
       "      <th>1</th>\n",
       "      <td>Super Mario Bros.</td>\n",
       "      <td>NES</td>\n",
       "      <td>1985.0</td>\n",
       "      <td>Platform</td>\n",
       "      <td>29.08</td>\n",
       "      <td>3.58</td>\n",
       "      <td>6.81</td>\n",
       "      <td>0.77</td>\n",
       "      <td>NaN</td>\n",
       "      <td>NaN</td>\n",
       "      <td>NaN</td>\n",
       "    </tr>\n",
       "    <tr>\n",
       "      <th>2</th>\n",
       "      <td>Mario Kart Wii</td>\n",
       "      <td>Wii</td>\n",
       "      <td>2008.0</td>\n",
       "      <td>Racing</td>\n",
       "      <td>15.68</td>\n",
       "      <td>12.76</td>\n",
       "      <td>3.79</td>\n",
       "      <td>3.29</td>\n",
       "      <td>82.0</td>\n",
       "      <td>8.3</td>\n",
       "      <td>E</td>\n",
       "    </tr>\n",
       "    <tr>\n",
       "      <th>3</th>\n",
       "      <td>Wii Sports Resort</td>\n",
       "      <td>Wii</td>\n",
       "      <td>2009.0</td>\n",
       "      <td>Sports</td>\n",
       "      <td>15.61</td>\n",
       "      <td>10.93</td>\n",
       "      <td>3.28</td>\n",
       "      <td>2.95</td>\n",
       "      <td>80.0</td>\n",
       "      <td>8</td>\n",
       "      <td>E</td>\n",
       "    </tr>\n",
       "    <tr>\n",
       "      <th>4</th>\n",
       "      <td>Pokemon Red/Pokemon Blue</td>\n",
       "      <td>GB</td>\n",
       "      <td>1996.0</td>\n",
       "      <td>Role-Playing</td>\n",
       "      <td>11.27</td>\n",
       "      <td>8.89</td>\n",
       "      <td>10.22</td>\n",
       "      <td>1.00</td>\n",
       "      <td>NaN</td>\n",
       "      <td>NaN</td>\n",
       "      <td>NaN</td>\n",
       "    </tr>\n",
       "    <tr>\n",
       "      <th>...</th>\n",
       "      <td>...</td>\n",
       "      <td>...</td>\n",
       "      <td>...</td>\n",
       "      <td>...</td>\n",
       "      <td>...</td>\n",
       "      <td>...</td>\n",
       "      <td>...</td>\n",
       "      <td>...</td>\n",
       "      <td>...</td>\n",
       "      <td>...</td>\n",
       "      <td>...</td>\n",
       "    </tr>\n",
       "    <tr>\n",
       "      <th>16710</th>\n",
       "      <td>Samurai Warriors: Sanada Maru</td>\n",
       "      <td>PS3</td>\n",
       "      <td>2016.0</td>\n",
       "      <td>Action</td>\n",
       "      <td>0.00</td>\n",
       "      <td>0.00</td>\n",
       "      <td>0.01</td>\n",
       "      <td>0.00</td>\n",
       "      <td>NaN</td>\n",
       "      <td>NaN</td>\n",
       "      <td>NaN</td>\n",
       "    </tr>\n",
       "    <tr>\n",
       "      <th>16711</th>\n",
       "      <td>LMA Manager 2007</td>\n",
       "      <td>X360</td>\n",
       "      <td>2006.0</td>\n",
       "      <td>Sports</td>\n",
       "      <td>0.00</td>\n",
       "      <td>0.01</td>\n",
       "      <td>0.00</td>\n",
       "      <td>0.00</td>\n",
       "      <td>NaN</td>\n",
       "      <td>NaN</td>\n",
       "      <td>NaN</td>\n",
       "    </tr>\n",
       "    <tr>\n",
       "      <th>16712</th>\n",
       "      <td>Haitaka no Psychedelica</td>\n",
       "      <td>PSV</td>\n",
       "      <td>2016.0</td>\n",
       "      <td>Adventure</td>\n",
       "      <td>0.00</td>\n",
       "      <td>0.00</td>\n",
       "      <td>0.01</td>\n",
       "      <td>0.00</td>\n",
       "      <td>NaN</td>\n",
       "      <td>NaN</td>\n",
       "      <td>NaN</td>\n",
       "    </tr>\n",
       "    <tr>\n",
       "      <th>16713</th>\n",
       "      <td>Spirits &amp; Spells</td>\n",
       "      <td>GBA</td>\n",
       "      <td>2003.0</td>\n",
       "      <td>Platform</td>\n",
       "      <td>0.01</td>\n",
       "      <td>0.00</td>\n",
       "      <td>0.00</td>\n",
       "      <td>0.00</td>\n",
       "      <td>NaN</td>\n",
       "      <td>NaN</td>\n",
       "      <td>NaN</td>\n",
       "    </tr>\n",
       "    <tr>\n",
       "      <th>16714</th>\n",
       "      <td>Winning Post 8 2016</td>\n",
       "      <td>PSV</td>\n",
       "      <td>2016.0</td>\n",
       "      <td>Simulation</td>\n",
       "      <td>0.00</td>\n",
       "      <td>0.00</td>\n",
       "      <td>0.01</td>\n",
       "      <td>0.00</td>\n",
       "      <td>NaN</td>\n",
       "      <td>NaN</td>\n",
       "      <td>NaN</td>\n",
       "    </tr>\n",
       "  </tbody>\n",
       "</table>\n",
       "<p>16715 rows × 11 columns</p>\n",
       "</div>"
      ],
      "text/plain": [
       "                                Name Platform  Year_of_Release         Genre  \\\n",
       "0                         Wii Sports      Wii           2006.0        Sports   \n",
       "1                  Super Mario Bros.      NES           1985.0      Platform   \n",
       "2                     Mario Kart Wii      Wii           2008.0        Racing   \n",
       "3                  Wii Sports Resort      Wii           2009.0        Sports   \n",
       "4           Pokemon Red/Pokemon Blue       GB           1996.0  Role-Playing   \n",
       "...                              ...      ...              ...           ...   \n",
       "16710  Samurai Warriors: Sanada Maru      PS3           2016.0        Action   \n",
       "16711               LMA Manager 2007     X360           2006.0        Sports   \n",
       "16712        Haitaka no Psychedelica      PSV           2016.0     Adventure   \n",
       "16713               Spirits & Spells      GBA           2003.0      Platform   \n",
       "16714            Winning Post 8 2016      PSV           2016.0    Simulation   \n",
       "\n",
       "       NA_sales  EU_sales  JP_sales  Other_sales  Critic_Score User_Score  \\\n",
       "0         41.36     28.96      3.77         8.45          76.0          8   \n",
       "1         29.08      3.58      6.81         0.77           NaN        NaN   \n",
       "2         15.68     12.76      3.79         3.29          82.0        8.3   \n",
       "3         15.61     10.93      3.28         2.95          80.0          8   \n",
       "4         11.27      8.89     10.22         1.00           NaN        NaN   \n",
       "...         ...       ...       ...          ...           ...        ...   \n",
       "16710      0.00      0.00      0.01         0.00           NaN        NaN   \n",
       "16711      0.00      0.01      0.00         0.00           NaN        NaN   \n",
       "16712      0.00      0.00      0.01         0.00           NaN        NaN   \n",
       "16713      0.01      0.00      0.00         0.00           NaN        NaN   \n",
       "16714      0.00      0.00      0.01         0.00           NaN        NaN   \n",
       "\n",
       "      Rating  \n",
       "0          E  \n",
       "1        NaN  \n",
       "2          E  \n",
       "3          E  \n",
       "4        NaN  \n",
       "...      ...  \n",
       "16710    NaN  \n",
       "16711    NaN  \n",
       "16712    NaN  \n",
       "16713    NaN  \n",
       "16714    NaN  \n",
       "\n",
       "[16715 rows x 11 columns]"
      ]
     },
     "metadata": {},
     "output_type": "display_data"
    },
    {
     "name": "stdout",
     "output_type": "stream",
     "text": [
      "<class 'pandas.core.frame.DataFrame'>\n",
      "RangeIndex: 16715 entries, 0 to 16714\n",
      "Data columns (total 11 columns):\n",
      " #   Column           Non-Null Count  Dtype  \n",
      "---  ------           --------------  -----  \n",
      " 0   Name             16713 non-null  object \n",
      " 1   Platform         16715 non-null  object \n",
      " 2   Year_of_Release  16446 non-null  float64\n",
      " 3   Genre            16713 non-null  object \n",
      " 4   NA_sales         16715 non-null  float64\n",
      " 5   EU_sales         16715 non-null  float64\n",
      " 6   JP_sales         16715 non-null  float64\n",
      " 7   Other_sales      16715 non-null  float64\n",
      " 8   Critic_Score     8137 non-null   float64\n",
      " 9   User_Score       10014 non-null  object \n",
      " 10  Rating           9949 non-null   object \n",
      "dtypes: float64(6), object(5)\n",
      "memory usage: 1.4+ MB\n"
     ]
    },
    {
     "data": {
      "text/html": [
       "<div>\n",
       "<style scoped>\n",
       "    .dataframe tbody tr th:only-of-type {\n",
       "        vertical-align: middle;\n",
       "    }\n",
       "\n",
       "    .dataframe tbody tr th {\n",
       "        vertical-align: top;\n",
       "    }\n",
       "\n",
       "    .dataframe thead th {\n",
       "        text-align: right;\n",
       "    }\n",
       "</style>\n",
       "<table border=\"1\" class=\"dataframe\">\n",
       "  <thead>\n",
       "    <tr style=\"text-align: right;\">\n",
       "      <th></th>\n",
       "      <th>Year_of_Release</th>\n",
       "      <th>NA_sales</th>\n",
       "      <th>EU_sales</th>\n",
       "      <th>JP_sales</th>\n",
       "      <th>Other_sales</th>\n",
       "      <th>Critic_Score</th>\n",
       "    </tr>\n",
       "  </thead>\n",
       "  <tbody>\n",
       "    <tr>\n",
       "      <th>count</th>\n",
       "      <td>16446.000000</td>\n",
       "      <td>16715.000000</td>\n",
       "      <td>16715.000000</td>\n",
       "      <td>16715.000000</td>\n",
       "      <td>16715.000000</td>\n",
       "      <td>8137.000000</td>\n",
       "    </tr>\n",
       "    <tr>\n",
       "      <th>mean</th>\n",
       "      <td>2006.484616</td>\n",
       "      <td>0.263377</td>\n",
       "      <td>0.145060</td>\n",
       "      <td>0.077617</td>\n",
       "      <td>0.047342</td>\n",
       "      <td>68.967679</td>\n",
       "    </tr>\n",
       "    <tr>\n",
       "      <th>std</th>\n",
       "      <td>5.877050</td>\n",
       "      <td>0.813604</td>\n",
       "      <td>0.503339</td>\n",
       "      <td>0.308853</td>\n",
       "      <td>0.186731</td>\n",
       "      <td>13.938165</td>\n",
       "    </tr>\n",
       "    <tr>\n",
       "      <th>min</th>\n",
       "      <td>1980.000000</td>\n",
       "      <td>0.000000</td>\n",
       "      <td>0.000000</td>\n",
       "      <td>0.000000</td>\n",
       "      <td>0.000000</td>\n",
       "      <td>13.000000</td>\n",
       "    </tr>\n",
       "    <tr>\n",
       "      <th>25%</th>\n",
       "      <td>2003.000000</td>\n",
       "      <td>0.000000</td>\n",
       "      <td>0.000000</td>\n",
       "      <td>0.000000</td>\n",
       "      <td>0.000000</td>\n",
       "      <td>60.000000</td>\n",
       "    </tr>\n",
       "    <tr>\n",
       "      <th>50%</th>\n",
       "      <td>2007.000000</td>\n",
       "      <td>0.080000</td>\n",
       "      <td>0.020000</td>\n",
       "      <td>0.000000</td>\n",
       "      <td>0.010000</td>\n",
       "      <td>71.000000</td>\n",
       "    </tr>\n",
       "    <tr>\n",
       "      <th>75%</th>\n",
       "      <td>2010.000000</td>\n",
       "      <td>0.240000</td>\n",
       "      <td>0.110000</td>\n",
       "      <td>0.040000</td>\n",
       "      <td>0.030000</td>\n",
       "      <td>79.000000</td>\n",
       "    </tr>\n",
       "    <tr>\n",
       "      <th>max</th>\n",
       "      <td>2016.000000</td>\n",
       "      <td>41.360000</td>\n",
       "      <td>28.960000</td>\n",
       "      <td>10.220000</td>\n",
       "      <td>10.570000</td>\n",
       "      <td>98.000000</td>\n",
       "    </tr>\n",
       "  </tbody>\n",
       "</table>\n",
       "</div>"
      ],
      "text/plain": [
       "       Year_of_Release      NA_sales      EU_sales      JP_sales  \\\n",
       "count     16446.000000  16715.000000  16715.000000  16715.000000   \n",
       "mean       2006.484616      0.263377      0.145060      0.077617   \n",
       "std           5.877050      0.813604      0.503339      0.308853   \n",
       "min        1980.000000      0.000000      0.000000      0.000000   \n",
       "25%        2003.000000      0.000000      0.000000      0.000000   \n",
       "50%        2007.000000      0.080000      0.020000      0.000000   \n",
       "75%        2010.000000      0.240000      0.110000      0.040000   \n",
       "max        2016.000000     41.360000     28.960000     10.220000   \n",
       "\n",
       "        Other_sales  Critic_Score  \n",
       "count  16715.000000   8137.000000  \n",
       "mean       0.047342     68.967679  \n",
       "std        0.186731     13.938165  \n",
       "min        0.000000     13.000000  \n",
       "25%        0.000000     60.000000  \n",
       "50%        0.010000     71.000000  \n",
       "75%        0.030000     79.000000  \n",
       "max       10.570000     98.000000  "
      ]
     },
     "execution_count": 1,
     "metadata": {},
     "output_type": "execute_result"
    }
   ],
   "source": [
    "# Configurar el estilo de seaborn\n",
    "sns.set_theme()\n",
    "\n",
    "# leer conjuntos de datos en los DataFrames\n",
    "games = pd.read_csv(\"/datasets/games.csv\")\n",
    "\n",
    "# mostrar información del DataFrame\n",
    "display(games)\n",
    "games.info()\n",
    "games.describe()"
   ]
  },
  {
   "cell_type": "markdown",
   "metadata": {},
   "source": [
    "En el archivo games.csv encontramos que las columnas Critic_Score, User_Score, Name, Year_of_Release, Genre y Rating poseen datos nulos. Las columnas son de tipo object o float, sin que la presencia de NaN parezca ser una razón determinante de que son de tipo float. "
   ]
  },
  {
   "cell_type": "markdown",
   "metadata": {},
   "source": [
    "## Paso 2. Preparamos los datos para el análisis."
   ]
  },
  {
   "cell_type": "markdown",
   "metadata": {},
   "source": [
    "Primero, sería mejor tener los nombres de las columnas todos en minúsculas. También se van a cambiar los nombres de las columnas Name, Platform y Genre todos a minúsculas, para eliminar la posibilidad de que hayan duplicados."
   ]
  },
  {
   "cell_type": "code",
   "execution_count": 2,
   "metadata": {},
   "outputs": [
    {
     "data": {
      "text/html": [
       "<div>\n",
       "<style scoped>\n",
       "    .dataframe tbody tr th:only-of-type {\n",
       "        vertical-align: middle;\n",
       "    }\n",
       "\n",
       "    .dataframe tbody tr th {\n",
       "        vertical-align: top;\n",
       "    }\n",
       "\n",
       "    .dataframe thead th {\n",
       "        text-align: right;\n",
       "    }\n",
       "</style>\n",
       "<table border=\"1\" class=\"dataframe\">\n",
       "  <thead>\n",
       "    <tr style=\"text-align: right;\">\n",
       "      <th></th>\n",
       "      <th>name</th>\n",
       "      <th>platform</th>\n",
       "      <th>year_of_release</th>\n",
       "      <th>genre</th>\n",
       "      <th>na_sales</th>\n",
       "      <th>eu_sales</th>\n",
       "      <th>jp_sales</th>\n",
       "      <th>other_sales</th>\n",
       "      <th>critic_score</th>\n",
       "      <th>user_score</th>\n",
       "      <th>rating</th>\n",
       "    </tr>\n",
       "  </thead>\n",
       "  <tbody>\n",
       "    <tr>\n",
       "      <th>0</th>\n",
       "      <td>wii sports</td>\n",
       "      <td>wii</td>\n",
       "      <td>2006.0</td>\n",
       "      <td>sports</td>\n",
       "      <td>41.36</td>\n",
       "      <td>28.96</td>\n",
       "      <td>3.77</td>\n",
       "      <td>8.45</td>\n",
       "      <td>76.0</td>\n",
       "      <td>8</td>\n",
       "      <td>e</td>\n",
       "    </tr>\n",
       "    <tr>\n",
       "      <th>1</th>\n",
       "      <td>super mario bros.</td>\n",
       "      <td>nes</td>\n",
       "      <td>1985.0</td>\n",
       "      <td>platform</td>\n",
       "      <td>29.08</td>\n",
       "      <td>3.58</td>\n",
       "      <td>6.81</td>\n",
       "      <td>0.77</td>\n",
       "      <td>NaN</td>\n",
       "      <td>NaN</td>\n",
       "      <td>NaN</td>\n",
       "    </tr>\n",
       "    <tr>\n",
       "      <th>2</th>\n",
       "      <td>mario kart wii</td>\n",
       "      <td>wii</td>\n",
       "      <td>2008.0</td>\n",
       "      <td>racing</td>\n",
       "      <td>15.68</td>\n",
       "      <td>12.76</td>\n",
       "      <td>3.79</td>\n",
       "      <td>3.29</td>\n",
       "      <td>82.0</td>\n",
       "      <td>8.3</td>\n",
       "      <td>e</td>\n",
       "    </tr>\n",
       "    <tr>\n",
       "      <th>3</th>\n",
       "      <td>wii sports resort</td>\n",
       "      <td>wii</td>\n",
       "      <td>2009.0</td>\n",
       "      <td>sports</td>\n",
       "      <td>15.61</td>\n",
       "      <td>10.93</td>\n",
       "      <td>3.28</td>\n",
       "      <td>2.95</td>\n",
       "      <td>80.0</td>\n",
       "      <td>8</td>\n",
       "      <td>e</td>\n",
       "    </tr>\n",
       "    <tr>\n",
       "      <th>4</th>\n",
       "      <td>pokemon red/pokemon blue</td>\n",
       "      <td>gb</td>\n",
       "      <td>1996.0</td>\n",
       "      <td>role-playing</td>\n",
       "      <td>11.27</td>\n",
       "      <td>8.89</td>\n",
       "      <td>10.22</td>\n",
       "      <td>1.00</td>\n",
       "      <td>NaN</td>\n",
       "      <td>NaN</td>\n",
       "      <td>NaN</td>\n",
       "    </tr>\n",
       "    <tr>\n",
       "      <th>...</th>\n",
       "      <td>...</td>\n",
       "      <td>...</td>\n",
       "      <td>...</td>\n",
       "      <td>...</td>\n",
       "      <td>...</td>\n",
       "      <td>...</td>\n",
       "      <td>...</td>\n",
       "      <td>...</td>\n",
       "      <td>...</td>\n",
       "      <td>...</td>\n",
       "      <td>...</td>\n",
       "    </tr>\n",
       "    <tr>\n",
       "      <th>16710</th>\n",
       "      <td>samurai warriors: sanada maru</td>\n",
       "      <td>ps3</td>\n",
       "      <td>2016.0</td>\n",
       "      <td>action</td>\n",
       "      <td>0.00</td>\n",
       "      <td>0.00</td>\n",
       "      <td>0.01</td>\n",
       "      <td>0.00</td>\n",
       "      <td>NaN</td>\n",
       "      <td>NaN</td>\n",
       "      <td>NaN</td>\n",
       "    </tr>\n",
       "    <tr>\n",
       "      <th>16711</th>\n",
       "      <td>lma manager 2007</td>\n",
       "      <td>x360</td>\n",
       "      <td>2006.0</td>\n",
       "      <td>sports</td>\n",
       "      <td>0.00</td>\n",
       "      <td>0.01</td>\n",
       "      <td>0.00</td>\n",
       "      <td>0.00</td>\n",
       "      <td>NaN</td>\n",
       "      <td>NaN</td>\n",
       "      <td>NaN</td>\n",
       "    </tr>\n",
       "    <tr>\n",
       "      <th>16712</th>\n",
       "      <td>haitaka no psychedelica</td>\n",
       "      <td>psv</td>\n",
       "      <td>2016.0</td>\n",
       "      <td>adventure</td>\n",
       "      <td>0.00</td>\n",
       "      <td>0.00</td>\n",
       "      <td>0.01</td>\n",
       "      <td>0.00</td>\n",
       "      <td>NaN</td>\n",
       "      <td>NaN</td>\n",
       "      <td>NaN</td>\n",
       "    </tr>\n",
       "    <tr>\n",
       "      <th>16713</th>\n",
       "      <td>spirits &amp; spells</td>\n",
       "      <td>gba</td>\n",
       "      <td>2003.0</td>\n",
       "      <td>platform</td>\n",
       "      <td>0.01</td>\n",
       "      <td>0.00</td>\n",
       "      <td>0.00</td>\n",
       "      <td>0.00</td>\n",
       "      <td>NaN</td>\n",
       "      <td>NaN</td>\n",
       "      <td>NaN</td>\n",
       "    </tr>\n",
       "    <tr>\n",
       "      <th>16714</th>\n",
       "      <td>winning post 8 2016</td>\n",
       "      <td>psv</td>\n",
       "      <td>2016.0</td>\n",
       "      <td>simulation</td>\n",
       "      <td>0.00</td>\n",
       "      <td>0.00</td>\n",
       "      <td>0.01</td>\n",
       "      <td>0.00</td>\n",
       "      <td>NaN</td>\n",
       "      <td>NaN</td>\n",
       "      <td>NaN</td>\n",
       "    </tr>\n",
       "  </tbody>\n",
       "</table>\n",
       "<p>16715 rows × 11 columns</p>\n",
       "</div>"
      ],
      "text/plain": [
       "                                name platform  year_of_release         genre  \\\n",
       "0                         wii sports      wii           2006.0        sports   \n",
       "1                  super mario bros.      nes           1985.0      platform   \n",
       "2                     mario kart wii      wii           2008.0        racing   \n",
       "3                  wii sports resort      wii           2009.0        sports   \n",
       "4           pokemon red/pokemon blue       gb           1996.0  role-playing   \n",
       "...                              ...      ...              ...           ...   \n",
       "16710  samurai warriors: sanada maru      ps3           2016.0        action   \n",
       "16711               lma manager 2007     x360           2006.0        sports   \n",
       "16712        haitaka no psychedelica      psv           2016.0     adventure   \n",
       "16713               spirits & spells      gba           2003.0      platform   \n",
       "16714            winning post 8 2016      psv           2016.0    simulation   \n",
       "\n",
       "       na_sales  eu_sales  jp_sales  other_sales  critic_score user_score  \\\n",
       "0         41.36     28.96      3.77         8.45          76.0          8   \n",
       "1         29.08      3.58      6.81         0.77           NaN        NaN   \n",
       "2         15.68     12.76      3.79         3.29          82.0        8.3   \n",
       "3         15.61     10.93      3.28         2.95          80.0          8   \n",
       "4         11.27      8.89     10.22         1.00           NaN        NaN   \n",
       "...         ...       ...       ...          ...           ...        ...   \n",
       "16710      0.00      0.00      0.01         0.00           NaN        NaN   \n",
       "16711      0.00      0.01      0.00         0.00           NaN        NaN   \n",
       "16712      0.00      0.00      0.01         0.00           NaN        NaN   \n",
       "16713      0.01      0.00      0.00         0.00           NaN        NaN   \n",
       "16714      0.00      0.00      0.01         0.00           NaN        NaN   \n",
       "\n",
       "      rating  \n",
       "0          e  \n",
       "1        NaN  \n",
       "2          e  \n",
       "3          e  \n",
       "4        NaN  \n",
       "...      ...  \n",
       "16710    NaN  \n",
       "16711    NaN  \n",
       "16712    NaN  \n",
       "16713    NaN  \n",
       "16714    NaN  \n",
       "\n",
       "[16715 rows x 11 columns]"
      ]
     },
     "metadata": {},
     "output_type": "display_data"
    }
   ],
   "source": [
    "games.columns = games.columns.str.lower()\n",
    "games = games.applymap(lambda x: x.lower() if isinstance(x, str) else x)\n",
    "display(games)"
   ]
  },
  {
   "cell_type": "markdown",
   "metadata": {},
   "source": [
    "Se analizaran los datos unicos de las columnas: critic_score, user_score, year_of_release, genre y rating. En base a esto, se analizará como usar los datos nulos, los tbd (\"to be determined\") y la manera en que cambiaremos los tipos de datos. "
   ]
  },
  {
   "cell_type": "code",
   "execution_count": 3,
   "metadata": {},
   "outputs": [
    {
     "data": {
      "text/plain": [
       "array([2006., 1985., 2008., 2009., 1996., 1989., 1984., 2005., 1999.,\n",
       "       2007., 2010., 2013., 2004., 1990., 1988., 2002., 2001., 2011.,\n",
       "       1998., 2015., 2012., 2014., 1992., 1997., 1993., 1994., 1982.,\n",
       "       2016., 2003., 1986., 2000.,   nan, 1995., 1991., 1981., 1987.,\n",
       "       1980., 1983.])"
      ]
     },
     "metadata": {},
     "output_type": "display_data"
    },
    {
     "name": "stdout",
     "output_type": "stream",
     "text": [
      "<class 'pandas.core.frame.DataFrame'>\n",
      "RangeIndex: 16715 entries, 0 to 16714\n",
      "Data columns (total 11 columns):\n",
      " #   Column           Non-Null Count  Dtype  \n",
      "---  ------           --------------  -----  \n",
      " 0   name             16713 non-null  object \n",
      " 1   platform         16715 non-null  object \n",
      " 2   year_of_release  16446 non-null  Int64  \n",
      " 3   genre            16713 non-null  object \n",
      " 4   na_sales         16715 non-null  float64\n",
      " 5   eu_sales         16715 non-null  float64\n",
      " 6   jp_sales         16715 non-null  float64\n",
      " 7   other_sales      16715 non-null  float64\n",
      " 8   critic_score     8137 non-null   float64\n",
      " 9   user_score       10014 non-null  object \n",
      " 10  rating           9949 non-null   object \n",
      "dtypes: Int64(1), float64(5), object(5)\n",
      "memory usage: 1.4+ MB\n"
     ]
    },
    {
     "data": {
      "text/plain": [
       "None"
      ]
     },
     "metadata": {},
     "output_type": "display_data"
    }
   ],
   "source": [
    "display(games['year_of_release'].unique())\n",
    "games['year_of_release'] = games['year_of_release'].astype(\n",
    "    'Int64', errors='ignore')\n",
    "display(games.info())"
   ]
  },
  {
   "cell_type": "code",
   "execution_count": 4,
   "metadata": {},
   "outputs": [
    {
     "data": {
      "text/plain": [
       "array(['sports', 'platform', 'racing', 'role-playing', 'puzzle', 'misc',\n",
       "       'shooter', 'simulation', 'action', 'fighting', 'adventure',\n",
       "       'strategy', nan], dtype=object)"
      ]
     },
     "metadata": {},
     "output_type": "display_data"
    },
    {
     "data": {
      "text/html": [
       "<div>\n",
       "<style scoped>\n",
       "    .dataframe tbody tr th:only-of-type {\n",
       "        vertical-align: middle;\n",
       "    }\n",
       "\n",
       "    .dataframe tbody tr th {\n",
       "        vertical-align: top;\n",
       "    }\n",
       "\n",
       "    .dataframe thead th {\n",
       "        text-align: right;\n",
       "    }\n",
       "</style>\n",
       "<table border=\"1\" class=\"dataframe\">\n",
       "  <thead>\n",
       "    <tr style=\"text-align: right;\">\n",
       "      <th></th>\n",
       "      <th>name</th>\n",
       "      <th>platform</th>\n",
       "      <th>year_of_release</th>\n",
       "      <th>genre</th>\n",
       "      <th>na_sales</th>\n",
       "      <th>eu_sales</th>\n",
       "      <th>jp_sales</th>\n",
       "      <th>other_sales</th>\n",
       "      <th>critic_score</th>\n",
       "      <th>user_score</th>\n",
       "      <th>rating</th>\n",
       "    </tr>\n",
       "  </thead>\n",
       "  <tbody>\n",
       "    <tr>\n",
       "      <th>659</th>\n",
       "      <td>NaN</td>\n",
       "      <td>gen</td>\n",
       "      <td>1993</td>\n",
       "      <td>NaN</td>\n",
       "      <td>1.78</td>\n",
       "      <td>0.53</td>\n",
       "      <td>0.00</td>\n",
       "      <td>0.08</td>\n",
       "      <td>NaN</td>\n",
       "      <td>NaN</td>\n",
       "      <td>NaN</td>\n",
       "    </tr>\n",
       "    <tr>\n",
       "      <th>14244</th>\n",
       "      <td>NaN</td>\n",
       "      <td>gen</td>\n",
       "      <td>1993</td>\n",
       "      <td>NaN</td>\n",
       "      <td>0.00</td>\n",
       "      <td>0.00</td>\n",
       "      <td>0.03</td>\n",
       "      <td>0.00</td>\n",
       "      <td>NaN</td>\n",
       "      <td>NaN</td>\n",
       "      <td>NaN</td>\n",
       "    </tr>\n",
       "  </tbody>\n",
       "</table>\n",
       "</div>"
      ],
      "text/plain": [
       "      name platform  year_of_release genre  na_sales  eu_sales  jp_sales  \\\n",
       "659    NaN      gen             1993   NaN      1.78      0.53      0.00   \n",
       "14244  NaN      gen             1993   NaN      0.00      0.00      0.03   \n",
       "\n",
       "       other_sales  critic_score user_score rating  \n",
       "659           0.08           NaN        NaN    NaN  \n",
       "14244         0.00           NaN        NaN    NaN  "
      ]
     },
     "metadata": {},
     "output_type": "display_data"
    },
    {
     "data": {
      "text/html": [
       "<div>\n",
       "<style scoped>\n",
       "    .dataframe tbody tr th:only-of-type {\n",
       "        vertical-align: middle;\n",
       "    }\n",
       "\n",
       "    .dataframe tbody tr th {\n",
       "        vertical-align: top;\n",
       "    }\n",
       "\n",
       "    .dataframe thead th {\n",
       "        text-align: right;\n",
       "    }\n",
       "</style>\n",
       "<table border=\"1\" class=\"dataframe\">\n",
       "  <thead>\n",
       "    <tr style=\"text-align: right;\">\n",
       "      <th></th>\n",
       "      <th>name</th>\n",
       "      <th>platform</th>\n",
       "      <th>year_of_release</th>\n",
       "      <th>genre</th>\n",
       "      <th>na_sales</th>\n",
       "      <th>eu_sales</th>\n",
       "      <th>jp_sales</th>\n",
       "      <th>other_sales</th>\n",
       "      <th>critic_score</th>\n",
       "      <th>user_score</th>\n",
       "      <th>rating</th>\n",
       "    </tr>\n",
       "  </thead>\n",
       "  <tbody>\n",
       "    <tr>\n",
       "      <th>659</th>\n",
       "      <td>NaN</td>\n",
       "      <td>gen</td>\n",
       "      <td>1993</td>\n",
       "      <td>NaN</td>\n",
       "      <td>1.78</td>\n",
       "      <td>0.53</td>\n",
       "      <td>0.00</td>\n",
       "      <td>0.08</td>\n",
       "      <td>NaN</td>\n",
       "      <td>NaN</td>\n",
       "      <td>NaN</td>\n",
       "    </tr>\n",
       "    <tr>\n",
       "      <th>14244</th>\n",
       "      <td>NaN</td>\n",
       "      <td>gen</td>\n",
       "      <td>1993</td>\n",
       "      <td>NaN</td>\n",
       "      <td>0.00</td>\n",
       "      <td>0.00</td>\n",
       "      <td>0.03</td>\n",
       "      <td>0.00</td>\n",
       "      <td>NaN</td>\n",
       "      <td>NaN</td>\n",
       "      <td>NaN</td>\n",
       "    </tr>\n",
       "  </tbody>\n",
       "</table>\n",
       "</div>"
      ],
      "text/plain": [
       "      name platform  year_of_release genre  na_sales  eu_sales  jp_sales  \\\n",
       "659    NaN      gen             1993   NaN      1.78      0.53      0.00   \n",
       "14244  NaN      gen             1993   NaN      0.00      0.00      0.03   \n",
       "\n",
       "       other_sales  critic_score user_score rating  \n",
       "659           0.08           NaN        NaN    NaN  \n",
       "14244         0.00           NaN        NaN    NaN  "
      ]
     },
     "metadata": {},
     "output_type": "display_data"
    }
   ],
   "source": [
    "display(games['genre'].unique())\n",
    "display(games[games[\"genre\"].isna()])\n",
    "display(games[games[\"name\"].isna()])"
   ]
  },
  {
   "cell_type": "code",
   "execution_count": 5,
   "metadata": {},
   "outputs": [
    {
     "data": {
      "text/plain": [
       "array([76., nan, 82., 80., 89., 58., 87., 91., 61., 97., 95., 77., 88.,\n",
       "       83., 94., 93., 85., 86., 98., 96., 90., 84., 73., 74., 78., 92.,\n",
       "       71., 72., 68., 62., 49., 67., 81., 66., 56., 79., 70., 59., 64.,\n",
       "       75., 60., 63., 69., 50., 25., 42., 44., 55., 48., 57., 29., 47.,\n",
       "       65., 54., 20., 53., 37., 38., 33., 52., 30., 32., 43., 45., 51.,\n",
       "       40., 46., 39., 34., 35., 41., 36., 28., 31., 27., 26., 19., 23.,\n",
       "       24., 21., 17., 22., 13.])"
      ]
     },
     "metadata": {},
     "output_type": "display_data"
    },
    {
     "data": {
      "text/plain": [
       "array([7.6, nan, 8.2, 8. , 8.9, 5.8, 8.7, 9.1, 6.1, 9.7, 9.5, 7.7, 8.8,\n",
       "       8.3, 9.4, 9.3, 8.5, 8.6, 9.8, 9.6, 9. , 8.4, 7.3, 7.4, 7.8, 9.2,\n",
       "       7.1, 7.2, 6.8, 6.2, 4.9, 6.7, 8.1, 6.6, 5.6, 7.9, 7. , 5.9, 6.4,\n",
       "       7.5, 6. , 6.3, 6.9, 5. , 2.5, 4.2, 4.4, 5.5, 4.8, 5.7, 2.9, 4.7,\n",
       "       6.5, 5.4, 2. , 5.3, 3.7, 3.8, 3.3, 5.2, 3. , 3.2, 4.3, 4.5, 5.1,\n",
       "       4. , 4.6, 3.9, 3.4, 3.5, 4.1, 3.6, 2.8, 3.1, 2.7, 2.6, 1.9, 2.3,\n",
       "       2.4, 2.1, 1.7, 2.2, 1.3])"
      ]
     },
     "metadata": {},
     "output_type": "display_data"
    }
   ],
   "source": [
    "display(games['critic_score'].unique())\n",
    "games['critic_score'] = games['critic_score']/10\n",
    "display(games['critic_score'].unique())"
   ]
  },
  {
   "cell_type": "code",
   "execution_count": 6,
   "metadata": {},
   "outputs": [
    {
     "data": {
      "text/plain": [
       "array(['8', nan, '8.3', '8.5', '6.6', '8.4', '8.6', '7.7', '6.3', '7.4',\n",
       "       '8.2', '9', '7.9', '8.1', '8.7', '7.1', '3.4', '5.3', '4.8', '3.2',\n",
       "       '8.9', '6.4', '7.8', '7.5', '2.6', '7.2', '9.2', '7', '7.3', '4.3',\n",
       "       '7.6', '5.7', '5', '9.1', '6.5', 'tbd', '8.8', '6.9', '9.4', '6.8',\n",
       "       '6.1', '6.7', '5.4', '4', '4.9', '4.5', '9.3', '6.2', '4.2', '6',\n",
       "       '3.7', '4.1', '5.8', '5.6', '5.5', '4.4', '4.6', '5.9', '3.9',\n",
       "       '3.1', '2.9', '5.2', '3.3', '4.7', '5.1', '3.5', '2.5', '1.9', '3',\n",
       "       '2.7', '2.2', '2', '9.5', '2.1', '3.6', '2.8', '1.8', '3.8', '0',\n",
       "       '1.6', '9.6', '2.4', '1.7', '1.1', '0.3', '1.5', '0.7', '1.2',\n",
       "       '2.3', '0.5', '1.3', '0.2', '0.6', '1.4', '0.9', '1', '9.7'],\n",
       "      dtype=object)"
      ]
     },
     "metadata": {},
     "output_type": "display_data"
    },
    {
     "data": {
      "text/plain": [
       "array(['8', nan, '8.3', '8.5', '6.6', '8.4', '8.6', '7.7', '6.3', '7.4',\n",
       "       '8.2', '9', '7.9', '8.1', '8.7', '7.1', '3.4', '5.3', '4.8', '3.2',\n",
       "       '8.9', '6.4', '7.8', '7.5', '2.6', '7.2', '9.2', '7', '7.3', '4.3',\n",
       "       '7.6', '5.7', '5', '9.1', '6.5', '8.8', '6.9', '9.4', '6.8', '6.1',\n",
       "       '6.7', '5.4', '4', '4.9', '4.5', '9.3', '6.2', '4.2', '6', '3.7',\n",
       "       '4.1', '5.8', '5.6', '5.5', '4.4', '4.6', '5.9', '3.9', '3.1',\n",
       "       '2.9', '5.2', '3.3', '4.7', '5.1', '3.5', '2.5', '1.9', '3', '2.7',\n",
       "       '2.2', '2', '9.5', '2.1', '3.6', '2.8', '1.8', '3.8', '0', '1.6',\n",
       "       '9.6', '2.4', '1.7', '1.1', '0.3', '1.5', '0.7', '1.2', '2.3',\n",
       "       '0.5', '1.3', '0.2', '0.6', '1.4', '0.9', '1', '9.7'], dtype=object)"
      ]
     },
     "metadata": {},
     "output_type": "display_data"
    },
    {
     "name": "stdout",
     "output_type": "stream",
     "text": [
      "<class 'pandas.core.frame.DataFrame'>\n",
      "RangeIndex: 16715 entries, 0 to 16714\n",
      "Data columns (total 11 columns):\n",
      " #   Column           Non-Null Count  Dtype  \n",
      "---  ------           --------------  -----  \n",
      " 0   name             16713 non-null  object \n",
      " 1   platform         16715 non-null  object \n",
      " 2   year_of_release  16446 non-null  Int64  \n",
      " 3   genre            16713 non-null  object \n",
      " 4   na_sales         16715 non-null  float64\n",
      " 5   eu_sales         16715 non-null  float64\n",
      " 6   jp_sales         16715 non-null  float64\n",
      " 7   other_sales      16715 non-null  float64\n",
      " 8   critic_score     8137 non-null   float64\n",
      " 9   user_score       7590 non-null   float64\n",
      " 10  rating           9949 non-null   object \n",
      "dtypes: Int64(1), float64(6), object(4)\n",
      "memory usage: 1.4+ MB\n"
     ]
    },
    {
     "data": {
      "text/plain": [
       "None"
      ]
     },
     "metadata": {},
     "output_type": "display_data"
    }
   ],
   "source": [
    "display(games['user_score'].unique())\n",
    "games['user_score'] = games['user_score'].replace(\"tbd\", np.nan)\n",
    "display(games['user_score'].unique())\n",
    "games['user_score'] = games['user_score'].astype('float', errors='ignore')\n",
    "display(games.info())"
   ]
  },
  {
   "cell_type": "code",
   "execution_count": 7,
   "metadata": {},
   "outputs": [
    {
     "data": {
      "text/plain": [
       "array(['e', nan, 'm', 't', 'e10+', 'k-a', 'ao', 'ec', 'rp'], dtype=object)"
      ]
     },
     "metadata": {},
     "output_type": "display_data"
    }
   ],
   "source": [
    "display(games['rating'].unique())"
   ]
  },
  {
   "cell_type": "markdown",
   "metadata": {},
   "source": [
    "La columna year_of_release es de clase float, al parecer debido a los datos ausentes. Se transformaron a datos enteros.\n",
    "\n",
    "Los valores de la columna critic_score los dividí entre diez. Para que tenga la misma magnitud que user_score.\n",
    "\n",
    "La columna user_score tiene\"tbd\"(que está por ser determinado). En esta situación se volvio un nan para agruparlo con los que no tenemos información exacta de cual es el puntaje. Se transformaron los datos a float.\n",
    "\n",
    "La columna rating posee la clasificación ESRB, siendo e=\"Everyone\", ec= \"Early Childhood\", e10+=\"Everyone 10 and up\", t=\"Teen\", m=\"Mature (17+)\", ao=\"Adults Only (18+)\", rp= \"Rating Pending\" y k-a=\"Kids to Adults\" (este último está en desuso y es aproximadamente equivalente a la clasificación e.)\n",
    "\n",
    "Observamos que hay datos nulos en la columna \"genre\". Al buscarlos, encontramos que hacen referencia a los mismos datos nulos de la columna name. Es conveniente dejarlo como nulo y utilizar parámetros para ignorar los nulos si existen o extraerlos a la hora de hacer los cálculos. Es posible que en este caso, como no se conoce el nombre y el género, no es posible obtener las criticas o el rating. "
   ]
  },
  {
   "cell_type": "markdown",
   "metadata": {},
   "source": [
    "Se hará una columna con las ventas totales de cada videojuego."
   ]
  },
  {
   "cell_type": "code",
   "execution_count": 8,
   "metadata": {},
   "outputs": [
    {
     "data": {
      "text/html": [
       "<div>\n",
       "<style scoped>\n",
       "    .dataframe tbody tr th:only-of-type {\n",
       "        vertical-align: middle;\n",
       "    }\n",
       "\n",
       "    .dataframe tbody tr th {\n",
       "        vertical-align: top;\n",
       "    }\n",
       "\n",
       "    .dataframe thead th {\n",
       "        text-align: right;\n",
       "    }\n",
       "</style>\n",
       "<table border=\"1\" class=\"dataframe\">\n",
       "  <thead>\n",
       "    <tr style=\"text-align: right;\">\n",
       "      <th></th>\n",
       "      <th>name</th>\n",
       "      <th>platform</th>\n",
       "      <th>year_of_release</th>\n",
       "      <th>genre</th>\n",
       "      <th>na_sales</th>\n",
       "      <th>eu_sales</th>\n",
       "      <th>jp_sales</th>\n",
       "      <th>other_sales</th>\n",
       "      <th>critic_score</th>\n",
       "      <th>user_score</th>\n",
       "      <th>rating</th>\n",
       "      <th>total_sales</th>\n",
       "    </tr>\n",
       "  </thead>\n",
       "  <tbody>\n",
       "    <tr>\n",
       "      <th>0</th>\n",
       "      <td>wii sports</td>\n",
       "      <td>wii</td>\n",
       "      <td>2006</td>\n",
       "      <td>sports</td>\n",
       "      <td>41.36</td>\n",
       "      <td>28.96</td>\n",
       "      <td>3.77</td>\n",
       "      <td>8.45</td>\n",
       "      <td>7.6</td>\n",
       "      <td>8.0</td>\n",
       "      <td>e</td>\n",
       "      <td>82.54</td>\n",
       "    </tr>\n",
       "    <tr>\n",
       "      <th>1</th>\n",
       "      <td>super mario bros.</td>\n",
       "      <td>nes</td>\n",
       "      <td>1985</td>\n",
       "      <td>platform</td>\n",
       "      <td>29.08</td>\n",
       "      <td>3.58</td>\n",
       "      <td>6.81</td>\n",
       "      <td>0.77</td>\n",
       "      <td>NaN</td>\n",
       "      <td>NaN</td>\n",
       "      <td>NaN</td>\n",
       "      <td>40.24</td>\n",
       "    </tr>\n",
       "    <tr>\n",
       "      <th>2</th>\n",
       "      <td>mario kart wii</td>\n",
       "      <td>wii</td>\n",
       "      <td>2008</td>\n",
       "      <td>racing</td>\n",
       "      <td>15.68</td>\n",
       "      <td>12.76</td>\n",
       "      <td>3.79</td>\n",
       "      <td>3.29</td>\n",
       "      <td>8.2</td>\n",
       "      <td>8.3</td>\n",
       "      <td>e</td>\n",
       "      <td>35.52</td>\n",
       "    </tr>\n",
       "    <tr>\n",
       "      <th>3</th>\n",
       "      <td>wii sports resort</td>\n",
       "      <td>wii</td>\n",
       "      <td>2009</td>\n",
       "      <td>sports</td>\n",
       "      <td>15.61</td>\n",
       "      <td>10.93</td>\n",
       "      <td>3.28</td>\n",
       "      <td>2.95</td>\n",
       "      <td>8.0</td>\n",
       "      <td>8.0</td>\n",
       "      <td>e</td>\n",
       "      <td>32.77</td>\n",
       "    </tr>\n",
       "    <tr>\n",
       "      <th>4</th>\n",
       "      <td>pokemon red/pokemon blue</td>\n",
       "      <td>gb</td>\n",
       "      <td>1996</td>\n",
       "      <td>role-playing</td>\n",
       "      <td>11.27</td>\n",
       "      <td>8.89</td>\n",
       "      <td>10.22</td>\n",
       "      <td>1.00</td>\n",
       "      <td>NaN</td>\n",
       "      <td>NaN</td>\n",
       "      <td>NaN</td>\n",
       "      <td>31.38</td>\n",
       "    </tr>\n",
       "    <tr>\n",
       "      <th>...</th>\n",
       "      <td>...</td>\n",
       "      <td>...</td>\n",
       "      <td>...</td>\n",
       "      <td>...</td>\n",
       "      <td>...</td>\n",
       "      <td>...</td>\n",
       "      <td>...</td>\n",
       "      <td>...</td>\n",
       "      <td>...</td>\n",
       "      <td>...</td>\n",
       "      <td>...</td>\n",
       "      <td>...</td>\n",
       "    </tr>\n",
       "    <tr>\n",
       "      <th>16710</th>\n",
       "      <td>samurai warriors: sanada maru</td>\n",
       "      <td>ps3</td>\n",
       "      <td>2016</td>\n",
       "      <td>action</td>\n",
       "      <td>0.00</td>\n",
       "      <td>0.00</td>\n",
       "      <td>0.01</td>\n",
       "      <td>0.00</td>\n",
       "      <td>NaN</td>\n",
       "      <td>NaN</td>\n",
       "      <td>NaN</td>\n",
       "      <td>0.01</td>\n",
       "    </tr>\n",
       "    <tr>\n",
       "      <th>16711</th>\n",
       "      <td>lma manager 2007</td>\n",
       "      <td>x360</td>\n",
       "      <td>2006</td>\n",
       "      <td>sports</td>\n",
       "      <td>0.00</td>\n",
       "      <td>0.01</td>\n",
       "      <td>0.00</td>\n",
       "      <td>0.00</td>\n",
       "      <td>NaN</td>\n",
       "      <td>NaN</td>\n",
       "      <td>NaN</td>\n",
       "      <td>0.01</td>\n",
       "    </tr>\n",
       "    <tr>\n",
       "      <th>16712</th>\n",
       "      <td>haitaka no psychedelica</td>\n",
       "      <td>psv</td>\n",
       "      <td>2016</td>\n",
       "      <td>adventure</td>\n",
       "      <td>0.00</td>\n",
       "      <td>0.00</td>\n",
       "      <td>0.01</td>\n",
       "      <td>0.00</td>\n",
       "      <td>NaN</td>\n",
       "      <td>NaN</td>\n",
       "      <td>NaN</td>\n",
       "      <td>0.01</td>\n",
       "    </tr>\n",
       "    <tr>\n",
       "      <th>16713</th>\n",
       "      <td>spirits &amp; spells</td>\n",
       "      <td>gba</td>\n",
       "      <td>2003</td>\n",
       "      <td>platform</td>\n",
       "      <td>0.01</td>\n",
       "      <td>0.00</td>\n",
       "      <td>0.00</td>\n",
       "      <td>0.00</td>\n",
       "      <td>NaN</td>\n",
       "      <td>NaN</td>\n",
       "      <td>NaN</td>\n",
       "      <td>0.01</td>\n",
       "    </tr>\n",
       "    <tr>\n",
       "      <th>16714</th>\n",
       "      <td>winning post 8 2016</td>\n",
       "      <td>psv</td>\n",
       "      <td>2016</td>\n",
       "      <td>simulation</td>\n",
       "      <td>0.00</td>\n",
       "      <td>0.00</td>\n",
       "      <td>0.01</td>\n",
       "      <td>0.00</td>\n",
       "      <td>NaN</td>\n",
       "      <td>NaN</td>\n",
       "      <td>NaN</td>\n",
       "      <td>0.01</td>\n",
       "    </tr>\n",
       "  </tbody>\n",
       "</table>\n",
       "<p>16715 rows × 12 columns</p>\n",
       "</div>"
      ],
      "text/plain": [
       "                                name platform  year_of_release         genre  \\\n",
       "0                         wii sports      wii             2006        sports   \n",
       "1                  super mario bros.      nes             1985      platform   \n",
       "2                     mario kart wii      wii             2008        racing   \n",
       "3                  wii sports resort      wii             2009        sports   \n",
       "4           pokemon red/pokemon blue       gb             1996  role-playing   \n",
       "...                              ...      ...              ...           ...   \n",
       "16710  samurai warriors: sanada maru      ps3             2016        action   \n",
       "16711               lma manager 2007     x360             2006        sports   \n",
       "16712        haitaka no psychedelica      psv             2016     adventure   \n",
       "16713               spirits & spells      gba             2003      platform   \n",
       "16714            winning post 8 2016      psv             2016    simulation   \n",
       "\n",
       "       na_sales  eu_sales  jp_sales  other_sales  critic_score  user_score  \\\n",
       "0         41.36     28.96      3.77         8.45           7.6         8.0   \n",
       "1         29.08      3.58      6.81         0.77           NaN         NaN   \n",
       "2         15.68     12.76      3.79         3.29           8.2         8.3   \n",
       "3         15.61     10.93      3.28         2.95           8.0         8.0   \n",
       "4         11.27      8.89     10.22         1.00           NaN         NaN   \n",
       "...         ...       ...       ...          ...           ...         ...   \n",
       "16710      0.00      0.00      0.01         0.00           NaN         NaN   \n",
       "16711      0.00      0.01      0.00         0.00           NaN         NaN   \n",
       "16712      0.00      0.00      0.01         0.00           NaN         NaN   \n",
       "16713      0.01      0.00      0.00         0.00           NaN         NaN   \n",
       "16714      0.00      0.00      0.01         0.00           NaN         NaN   \n",
       "\n",
       "      rating  total_sales  \n",
       "0          e        82.54  \n",
       "1        NaN        40.24  \n",
       "2          e        35.52  \n",
       "3          e        32.77  \n",
       "4        NaN        31.38  \n",
       "...      ...          ...  \n",
       "16710    NaN         0.01  \n",
       "16711    NaN         0.01  \n",
       "16712    NaN         0.01  \n",
       "16713    NaN         0.01  \n",
       "16714    NaN         0.01  \n",
       "\n",
       "[16715 rows x 12 columns]"
      ]
     },
     "metadata": {},
     "output_type": "display_data"
    }
   ],
   "source": [
    "games['total_sales'] = (games[\"na_sales\"]+games[\"eu_sales\"] +\n",
    "                        games[\"jp_sales\"] + games[\"other_sales\"])\n",
    "display(games)"
   ]
  },
  {
   "cell_type": "markdown",
   "metadata": {},
   "source": [
    "Se checará por datos duplicados. Al parecer aparecen varias veces el nombre de algunos videojuegos."
   ]
  },
  {
   "cell_type": "code",
   "execution_count": 9,
   "metadata": {},
   "outputs": [
    {
     "data": {
      "text/plain": [
       "0"
      ]
     },
     "metadata": {},
     "output_type": "display_data"
    },
    {
     "data": {
      "text/plain": [
       "need for speed: most wanted             12\n",
       "lego marvel super heroes                 9\n",
       "fifa 14                                  9\n",
       "madden nfl 07                            9\n",
       "ratatouille                              9\n",
       "                                        ..\n",
       "wangan midnight portable                 1\n",
       "izumo 2                                  1\n",
       "phoenix wright: ace attorney trilogy     1\n",
       "duke nukem: total meltdown               1\n",
       "shin super robot taisen special disk     1\n",
       "Name: name, Length: 11559, dtype: int64"
      ]
     },
     "metadata": {},
     "output_type": "display_data"
    },
    {
     "data": {
      "text/html": [
       "<div>\n",
       "<style scoped>\n",
       "    .dataframe tbody tr th:only-of-type {\n",
       "        vertical-align: middle;\n",
       "    }\n",
       "\n",
       "    .dataframe tbody tr th {\n",
       "        vertical-align: top;\n",
       "    }\n",
       "\n",
       "    .dataframe thead th {\n",
       "        text-align: right;\n",
       "    }\n",
       "</style>\n",
       "<table border=\"1\" class=\"dataframe\">\n",
       "  <thead>\n",
       "    <tr style=\"text-align: right;\">\n",
       "      <th></th>\n",
       "      <th>name</th>\n",
       "      <th>platform</th>\n",
       "      <th>year_of_release</th>\n",
       "      <th>genre</th>\n",
       "      <th>na_sales</th>\n",
       "      <th>eu_sales</th>\n",
       "      <th>jp_sales</th>\n",
       "      <th>other_sales</th>\n",
       "      <th>critic_score</th>\n",
       "      <th>user_score</th>\n",
       "      <th>rating</th>\n",
       "      <th>total_sales</th>\n",
       "    </tr>\n",
       "  </thead>\n",
       "  <tbody>\n",
       "    <tr>\n",
       "      <th>253</th>\n",
       "      <td>need for speed: most wanted</td>\n",
       "      <td>ps2</td>\n",
       "      <td>2005</td>\n",
       "      <td>racing</td>\n",
       "      <td>2.03</td>\n",
       "      <td>1.79</td>\n",
       "      <td>0.08</td>\n",
       "      <td>0.47</td>\n",
       "      <td>8.2</td>\n",
       "      <td>9.1</td>\n",
       "      <td>t</td>\n",
       "      <td>4.37</td>\n",
       "    </tr>\n",
       "    <tr>\n",
       "      <th>523</th>\n",
       "      <td>need for speed: most wanted</td>\n",
       "      <td>ps3</td>\n",
       "      <td>2012</td>\n",
       "      <td>racing</td>\n",
       "      <td>0.71</td>\n",
       "      <td>1.46</td>\n",
       "      <td>0.06</td>\n",
       "      <td>0.58</td>\n",
       "      <td>NaN</td>\n",
       "      <td>NaN</td>\n",
       "      <td>NaN</td>\n",
       "      <td>2.81</td>\n",
       "    </tr>\n",
       "    <tr>\n",
       "      <th>1190</th>\n",
       "      <td>need for speed: most wanted</td>\n",
       "      <td>x360</td>\n",
       "      <td>2012</td>\n",
       "      <td>racing</td>\n",
       "      <td>0.62</td>\n",
       "      <td>0.78</td>\n",
       "      <td>0.01</td>\n",
       "      <td>0.15</td>\n",
       "      <td>8.3</td>\n",
       "      <td>8.5</td>\n",
       "      <td>t</td>\n",
       "      <td>1.56</td>\n",
       "    </tr>\n",
       "    <tr>\n",
       "      <th>1591</th>\n",
       "      <td>need for speed: most wanted</td>\n",
       "      <td>x360</td>\n",
       "      <td>2005</td>\n",
       "      <td>racing</td>\n",
       "      <td>1.00</td>\n",
       "      <td>0.13</td>\n",
       "      <td>0.02</td>\n",
       "      <td>0.10</td>\n",
       "      <td>8.3</td>\n",
       "      <td>8.5</td>\n",
       "      <td>t</td>\n",
       "      <td>1.25</td>\n",
       "    </tr>\n",
       "    <tr>\n",
       "      <th>1998</th>\n",
       "      <td>need for speed: most wanted</td>\n",
       "      <td>xb</td>\n",
       "      <td>2005</td>\n",
       "      <td>racing</td>\n",
       "      <td>0.53</td>\n",
       "      <td>0.46</td>\n",
       "      <td>0.00</td>\n",
       "      <td>0.05</td>\n",
       "      <td>8.3</td>\n",
       "      <td>8.8</td>\n",
       "      <td>t</td>\n",
       "      <td>1.04</td>\n",
       "    </tr>\n",
       "    <tr>\n",
       "      <th>2048</th>\n",
       "      <td>need for speed: most wanted</td>\n",
       "      <td>psv</td>\n",
       "      <td>2012</td>\n",
       "      <td>racing</td>\n",
       "      <td>0.33</td>\n",
       "      <td>0.45</td>\n",
       "      <td>0.01</td>\n",
       "      <td>0.22</td>\n",
       "      <td>NaN</td>\n",
       "      <td>NaN</td>\n",
       "      <td>NaN</td>\n",
       "      <td>1.01</td>\n",
       "    </tr>\n",
       "    <tr>\n",
       "      <th>3581</th>\n",
       "      <td>need for speed: most wanted</td>\n",
       "      <td>gc</td>\n",
       "      <td>2005</td>\n",
       "      <td>racing</td>\n",
       "      <td>0.43</td>\n",
       "      <td>0.11</td>\n",
       "      <td>0.00</td>\n",
       "      <td>0.02</td>\n",
       "      <td>8.0</td>\n",
       "      <td>9.1</td>\n",
       "      <td>t</td>\n",
       "      <td>0.56</td>\n",
       "    </tr>\n",
       "    <tr>\n",
       "      <th>5972</th>\n",
       "      <td>need for speed: most wanted</td>\n",
       "      <td>pc</td>\n",
       "      <td>2005</td>\n",
       "      <td>racing</td>\n",
       "      <td>0.02</td>\n",
       "      <td>0.23</td>\n",
       "      <td>0.00</td>\n",
       "      <td>0.04</td>\n",
       "      <td>8.2</td>\n",
       "      <td>8.5</td>\n",
       "      <td>t</td>\n",
       "      <td>0.29</td>\n",
       "    </tr>\n",
       "    <tr>\n",
       "      <th>6273</th>\n",
       "      <td>need for speed: most wanted</td>\n",
       "      <td>wiiu</td>\n",
       "      <td>2013</td>\n",
       "      <td>racing</td>\n",
       "      <td>0.13</td>\n",
       "      <td>0.12</td>\n",
       "      <td>0.00</td>\n",
       "      <td>0.02</td>\n",
       "      <td>NaN</td>\n",
       "      <td>NaN</td>\n",
       "      <td>NaN</td>\n",
       "      <td>0.27</td>\n",
       "    </tr>\n",
       "    <tr>\n",
       "      <th>6410</th>\n",
       "      <td>need for speed: most wanted</td>\n",
       "      <td>ds</td>\n",
       "      <td>2005</td>\n",
       "      <td>racing</td>\n",
       "      <td>0.24</td>\n",
       "      <td>0.01</td>\n",
       "      <td>0.00</td>\n",
       "      <td>0.02</td>\n",
       "      <td>4.5</td>\n",
       "      <td>6.1</td>\n",
       "      <td>e</td>\n",
       "      <td>0.27</td>\n",
       "    </tr>\n",
       "    <tr>\n",
       "      <th>6473</th>\n",
       "      <td>need for speed: most wanted</td>\n",
       "      <td>gba</td>\n",
       "      <td>2005</td>\n",
       "      <td>racing</td>\n",
       "      <td>0.19</td>\n",
       "      <td>0.07</td>\n",
       "      <td>0.00</td>\n",
       "      <td>0.00</td>\n",
       "      <td>NaN</td>\n",
       "      <td>8.3</td>\n",
       "      <td>e</td>\n",
       "      <td>0.26</td>\n",
       "    </tr>\n",
       "    <tr>\n",
       "      <th>11715</th>\n",
       "      <td>need for speed: most wanted</td>\n",
       "      <td>pc</td>\n",
       "      <td>2012</td>\n",
       "      <td>racing</td>\n",
       "      <td>0.00</td>\n",
       "      <td>0.06</td>\n",
       "      <td>0.00</td>\n",
       "      <td>0.02</td>\n",
       "      <td>8.2</td>\n",
       "      <td>8.5</td>\n",
       "      <td>t</td>\n",
       "      <td>0.08</td>\n",
       "    </tr>\n",
       "  </tbody>\n",
       "</table>\n",
       "</div>"
      ],
      "text/plain": [
       "                              name platform  year_of_release   genre  \\\n",
       "253    need for speed: most wanted      ps2             2005  racing   \n",
       "523    need for speed: most wanted      ps3             2012  racing   \n",
       "1190   need for speed: most wanted     x360             2012  racing   \n",
       "1591   need for speed: most wanted     x360             2005  racing   \n",
       "1998   need for speed: most wanted       xb             2005  racing   \n",
       "2048   need for speed: most wanted      psv             2012  racing   \n",
       "3581   need for speed: most wanted       gc             2005  racing   \n",
       "5972   need for speed: most wanted       pc             2005  racing   \n",
       "6273   need for speed: most wanted     wiiu             2013  racing   \n",
       "6410   need for speed: most wanted       ds             2005  racing   \n",
       "6473   need for speed: most wanted      gba             2005  racing   \n",
       "11715  need for speed: most wanted       pc             2012  racing   \n",
       "\n",
       "       na_sales  eu_sales  jp_sales  other_sales  critic_score  user_score  \\\n",
       "253        2.03      1.79      0.08         0.47           8.2         9.1   \n",
       "523        0.71      1.46      0.06         0.58           NaN         NaN   \n",
       "1190       0.62      0.78      0.01         0.15           8.3         8.5   \n",
       "1591       1.00      0.13      0.02         0.10           8.3         8.5   \n",
       "1998       0.53      0.46      0.00         0.05           8.3         8.8   \n",
       "2048       0.33      0.45      0.01         0.22           NaN         NaN   \n",
       "3581       0.43      0.11      0.00         0.02           8.0         9.1   \n",
       "5972       0.02      0.23      0.00         0.04           8.2         8.5   \n",
       "6273       0.13      0.12      0.00         0.02           NaN         NaN   \n",
       "6410       0.24      0.01      0.00         0.02           4.5         6.1   \n",
       "6473       0.19      0.07      0.00         0.00           NaN         8.3   \n",
       "11715      0.00      0.06      0.00         0.02           8.2         8.5   \n",
       "\n",
       "      rating  total_sales  \n",
       "253        t         4.37  \n",
       "523      NaN         2.81  \n",
       "1190       t         1.56  \n",
       "1591       t         1.25  \n",
       "1998       t         1.04  \n",
       "2048     NaN         1.01  \n",
       "3581       t         0.56  \n",
       "5972       t         0.29  \n",
       "6273     NaN         0.27  \n",
       "6410       e         0.27  \n",
       "6473       e         0.26  \n",
       "11715      t         0.08  "
      ]
     },
     "metadata": {},
     "output_type": "display_data"
    }
   ],
   "source": [
    "display(games.duplicated().sum())\n",
    "display(games[\"name\"].value_counts())\n",
    "display(games[games[\"name\"] == \"need for speed: most wanted\"])"
   ]
  },
  {
   "cell_type": "markdown",
   "metadata": {},
   "source": [
    "Al parecer no hay datos duplicados en nuestro dataframe. Si aparece más de una vez un nombre de un juego, se debe a que aparece en otra consola o en otro año en el que fue sacado."
   ]
  },
  {
   "cell_type": "markdown",
   "metadata": {},
   "source": [
    "## Paso 3. Análisis de los datos."
   ]
  },
  {
   "cell_type": "markdown",
   "metadata": {},
   "source": [
    "En el siguiente gráfico de barras observamos la cantidad de juegos lanzados desde 1890 hasta el 2016. Con estos datos, podemos observar una pauta de crecimiento de juegos lanzados (en los periódos de 1993 a 1998, 2001 a 2002 y del 2005 al 2008), luego una fase de un ligero decrecimiento (de 1999 al 2000, 2003 al 2004 y del 2009 al 2011) y un declive importante en el número de juegos lanzados del 2012 para delante. Considerando que no tenemos los datos completos del año 2016, podría repetirse la pauta de crecimiento, que iniciaría en el 2013. Observamos diferencias notables entre estos periodos de crecimiento y decrecimiento. Sin embargo, estos datos podrían sugerir que los juegos en las consolas están sufriendo en popularidad, tal vez por la aparición de los teléfonos inteligentes y los videojuegos en los mismos. "
   ]
  },
  {
   "cell_type": "code",
   "execution_count": 10,
   "metadata": {},
   "outputs": [
    {
     "data": {
      "image/png": "[encoded data removed]",
      "text/plain": [
       "<Figure size 1080x360 with 1 Axes>"
      ]
     },
     "metadata": {},
     "output_type": "display_data"
    }
   ],
   "source": [
    "year = games.groupby('year_of_release')['name'].count().sort_index()\n",
    "year.plot(figsize=[15, 5], kind='bar', title=\"Número de juegos lanzados a lo largo de los años\",\n",
    "          xlabel=\"Año\", ylabel=\"Número de juegos\")\n",
    "plt.show()"
   ]
  },
  {
   "cell_type": "markdown",
   "metadata": {},
   "source": [
    "En el siguiente gráfico observamos como varían las ventas totales de una plataforma a otra a lo largo de los años. Se eligió a aquellas plataformas que tenían ventas totales al menos de 300 millones de dólares. Entre las plataformas encontramos a DS, GBA, PS (1-4) Wii y Xbox360."
   ]
  },
  {
   "cell_type": "code",
   "execution_count": 11,
   "metadata": {},
   "outputs": [
    {
     "data": {
      "image/png": "[encoded data removed]",
      "text/plain": [
       "<Figure size 1080x360 with 1 Axes>"
      ]
     },
     "metadata": {},
     "output_type": "display_data"
    }
   ],
   "source": [
    "# Agrupamos y filtramos por plataformas con ventas totales de al menos 300 millones de dólares\n",
    "platform_year_sale = games.groupby(['platform', \"year_of_release\"])[\n",
    "    'total_sales'].sum()\n",
    "platforms_above_m = platform_year_sale.groupby(\n",
    "    'platform').filter(lambda x: x.sum() >= 300)\n",
    "\n",
    "# Crea un gráfico de barras.\n",
    "fig, ax = plt.subplots(figsize=(15, 5))\n",
    "# Itera sobre las plataformas y dibuja barras con distintos colores\n",
    "for i, (platform, group) in enumerate(platforms_above_m.groupby('platform')):\n",
    "    x = group.index.get_level_values('year_of_release')\n",
    "    y = group.values\n",
    "    ax.bar(x + i * 0.2, y, width=0.2, label=platform)\n",
    "\n",
    "# Añade título, etiquetas y leyenda\n",
    "ax.set_title(\n",
    "    \"Plataformas con las mayores ventas totales (>= 300 millones) a lo largo de los años\")\n",
    "ax.set_xlabel(\"Año\")\n",
    "ax.set_ylabel(\"Ventas en millones\")\n",
    "ax.legend(title='Plataforma', bbox_to_anchor=(1.05, 1), loc='upper left')\n",
    "\n",
    "# Muestra el gráfico\n",
    "plt.show()"
   ]
  },
  {
   "cell_type": "markdown",
   "metadata": {},
   "source": [
    "En la siguiente tabla se buscó analizar la esperanza de vida de las plataformas más populares. Para esto sacamos la diferencia entre el máximo y el mínimo de los años de lanzamiento de videojuegos para esas consolas y filtramos usando los datos del dataframe \"platforms_above_m\". Considerando las diferencias entre esperanzas de vida y su año de nacimiento, se decidió analizar los datos más recientes, filtrando las consolas de acuerdo a que su último juego no haya sido lanzado en el 2013, el inicio de una nuevo crecimiento en las ventas de videojuegos. Encontramos que el promedio de vida de las plataformas más populares es de  8 años y medio, más menos 3 años. Esto fue hecho analizando las ultimas consolas más populares: PS3, PS4, Wii y Xbox360."
   ]
  },
  {
   "cell_type": "code",
   "execution_count": 12,
   "metadata": {},
   "outputs": [
    {
     "data": {
      "text/html": [
       "<div>\n",
       "<style scoped>\n",
       "    .dataframe tbody tr th:only-of-type {\n",
       "        vertical-align: middle;\n",
       "    }\n",
       "\n",
       "    .dataframe tbody tr th {\n",
       "        vertical-align: top;\n",
       "    }\n",
       "\n",
       "    .dataframe thead th {\n",
       "        text-align: right;\n",
       "    }\n",
       "</style>\n",
       "<table border=\"1\" class=\"dataframe\">\n",
       "  <thead>\n",
       "    <tr style=\"text-align: right;\">\n",
       "      <th></th>\n",
       "      <th>platform</th>\n",
       "      <th>min</th>\n",
       "      <th>max</th>\n",
       "      <th>life_expectancy</th>\n",
       "    </tr>\n",
       "  </thead>\n",
       "  <tbody>\n",
       "    <tr>\n",
       "      <th>41</th>\n",
       "      <td>ps3</td>\n",
       "      <td>2006</td>\n",
       "      <td>2016</td>\n",
       "      <td>10</td>\n",
       "    </tr>\n",
       "    <tr>\n",
       "      <th>52</th>\n",
       "      <td>ps4</td>\n",
       "      <td>2013</td>\n",
       "      <td>2016</td>\n",
       "      <td>3</td>\n",
       "    </tr>\n",
       "    <tr>\n",
       "      <th>56</th>\n",
       "      <td>wii</td>\n",
       "      <td>2006</td>\n",
       "      <td>2016</td>\n",
       "      <td>10</td>\n",
       "    </tr>\n",
       "    <tr>\n",
       "      <th>67</th>\n",
       "      <td>x360</td>\n",
       "      <td>2005</td>\n",
       "      <td>2016</td>\n",
       "      <td>11</td>\n",
       "    </tr>\n",
       "  </tbody>\n",
       "</table>\n",
       "</div>"
      ],
      "text/plain": [
       "   platform   min   max  life_expectancy\n",
       "41      ps3  2006  2016               10\n",
       "52      ps4  2013  2016                3\n",
       "56      wii  2006  2016               10\n",
       "67     x360  2005  2016               11"
      ]
     },
     "metadata": {},
     "output_type": "display_data"
    },
    {
     "data": {
      "text/plain": [
       "'Promedio de vida de las plataformas más populares: 8.5 años'"
      ]
     },
     "metadata": {},
     "output_type": "display_data"
    },
    {
     "data": {
      "text/plain": [
       "'Desviación Estándar de la vida de las plataformas más populares: +- 3.2015621187164243 años'"
      ]
     },
     "metadata": {},
     "output_type": "display_data"
    }
   ],
   "source": [
    "# Agrupamos los datos de los videojuegos por plataforma y encontramos el año mínimo y máximo de lanzamiento\n",
    "life_expectancy = games.groupby(\n",
    "    'platform')[\"year_of_release\"].agg(['min', 'max'])\n",
    "\n",
    "# Calculamos la esperanza de vida de cada plataforma y reiniciamos el índice\n",
    "life_expectancy['life_expectancy'] = life_expectancy[\"max\"] - \\\n",
    "    life_expectancy[\"min\"]\n",
    "life_expectancy = life_expectancy.reset_index()\n",
    "\n",
    "# Fusionamos el DataFrame de plataformas populares con el DataFrame de esperanza de vida de las plataformas\n",
    "popular_games_life_expect = pd.merge(\n",
    "    platforms_above_m, life_expectancy, on='platform', how='inner').drop_duplicates(subset=\"platform\")\n",
    "\n",
    "# Seleccionamos las columnas relevantes y filtramos las plataformas cuyo año máximo de lanzamiento es mayor que 2013\n",
    "popular_games_life_expect = popular_games_life_expect[[\n",
    "    \"platform\", \"min\", \"max\", \"life_expectancy\"]]\n",
    "popular_games_life_expect = popular_games_life_expect[popular_games_life_expect[\"max\"] > 2013]\n",
    "\n",
    "# Mostramos el resultado\n",
    "display(popular_games_life_expect)\n",
    "\n",
    "# Calculamos el promedio y la desviación estándar de la esperanza de vida de las plataformas más populares\n",
    "mean_pop = popular_games_life_expect[\"life_expectancy\"].mean()\n",
    "std_pop = np.std(popular_games_life_expect[\"life_expectancy\"])\n",
    "\n",
    "# Mostramos el resultado del promedio de vida de las plataformas más populares y su desviación estándar\n",
    "display(f'Promedio de vida de las plataformas más populares: {mean_pop} años')\n",
    "display(\n",
    "    f'Desviación Estándar de la vida de las plataformas más populares: +- {std_pop} años')"
   ]
  },
  {
   "cell_type": "markdown",
   "metadata": {},
   "source": [
    "En el siguiente gráfico de barras observamos las plataformas que tienen ventas totales de al menos de cien millones de dólares.\n",
    "Entre ellas observamos aquellas consolas como DS, 3DS, PS3, PSP, Wii y XBox360 se encuentran en un declive, reduciendo sus ventas conforme pasan los años. Y por el otro lado tenemos consolas como Xbox One y PS4 que tienen un crecimiento y de quienes se espera que sigan teniendo ventas a lo largo del 2016 y el 2017."
   ]
  },
  {
   "cell_type": "code",
   "execution_count": 13,
   "metadata": {
    "scrolled": false
   },
   "outputs": [
    {
     "data": {
      "image/png": "[encoded data removed]",
      "text/plain": [
       "<Figure size 1080x360 with 1 Axes>"
      ]
     },
     "metadata": {},
     "output_type": "display_data"
    }
   ],
   "source": [
    "# Agrupamos los datos de las ventas por año de acuerdo a la plataforma y\n",
    "# filtramos de acuerdo a las ventas totales y el periodo de lanzamiento\n",
    "platforms_above_m_pot = platform_year_sale.groupby(\n",
    "    'platform').filter(lambda x: x.sum() >= 100)\n",
    "platforms_above_m_pot = platforms_above_m_pot.reset_index()\n",
    "platforms_above_m_pot_recent = platforms_above_m_pot[\n",
    "    platforms_above_m_pot[\"year_of_release\"] >= 2013]\n",
    "\n",
    "# Crea un gráfico de barras con colores según las plataformas\n",
    "plt.figure(figsize=(15, 5))\n",
    "sns.barplot(x='year_of_release', y='total_sales',\n",
    "            hue='platform', data=platforms_above_m_pot_recent)\n",
    "\n",
    "# Añade título y etiquetas\n",
    "plt.title(\n",
    "    \"Número de juegos lanzados en las plataformas populares en los últimos años\")\n",
    "plt.xlabel(\"Año\")\n",
    "plt.ylabel(\"Millones en dólares\")\n",
    "\n",
    "# Muestra la leyenda fuera del gráfico\n",
    "plt.legend(title='Plataforma', bbox_to_anchor=(1.05, 1), loc='upper left')\n",
    "\n",
    "# Muestra el gráfico\n",
    "plt.show()"
   ]
  },
  {
   "cell_type": "markdown",
   "metadata": {},
   "source": [
    "En el siguiente diagrama de caja y bigotes se muestran las ventas totales globales de todos los juegos de acuerdo a la plataforma. No se observan diferencias significativas en las ventas totales. En todas las ventas promedio se encuentran por debajo de los 5 millones de dólares. "
   ]
  },
  {
   "cell_type": "code",
   "execution_count": 14,
   "metadata": {},
   "outputs": [
    {
     "data": {
      "image/png": "[encoded data removed]",
      "text/plain": [
       "<Figure size 1080x360 with 1 Axes>"
      ]
     },
     "metadata": {},
     "output_type": "display_data"
    }
   ],
   "source": [
    "# Crea un diagrama de caja con colores según las plataformas\n",
    "plt.figure(figsize=(15, 5))\n",
    "sns.boxplot(x='platform', y='total_sales', data=games)\n",
    "plt.yticks([i for i in range(0, 90, 5)])\n",
    "\n",
    "# Añade título y etiquetas\n",
    "plt.title(\"Ventas Globales de Juegos por Plataforma\")\n",
    "plt.xlabel(\"Plataforma\")\n",
    "plt.ylabel(\"Ventas Globales (millones)\")\n",
    "\n",
    "# Muestra el gráfico\n",
    "plt.show()"
   ]
  },
  {
   "cell_type": "markdown",
   "metadata": {},
   "source": [
    "En la siguiente gráfica de dispersión se muestra que la relación es débil y no puede utilizarse para predecir con precisión las ventas totales basándose únicamente en el puntaje promedio de los juegos. El puntaje promedio de los juegos de PS4 y las ventas totales no están muy relacionados entre sí, de acuerdo a la correlacion de 0.1905324281571429. No hay una diferencia entre la correlación cuando agregamos los videojuegos sin puntajes que cuando los dejamos de lado."
   ]
  },
  {
   "cell_type": "code",
   "execution_count": 15,
   "metadata": {},
   "outputs": [
    {
     "data": {
      "text/plain": [
       "'Correlacion entre el puntaje promedio de los juegos y las ventas totales en la PS4: 0.1905324281571429'"
      ]
     },
     "metadata": {},
     "output_type": "display_data"
    },
    {
     "data": {
      "text/plain": [
       "'Correlacion entre el puntaje promedio de los juegos y las ventas totales en la PS4 sin datos nulos: 0.1905324281571429'"
      ]
     },
     "metadata": {},
     "output_type": "display_data"
    },
    {
     "data": {
      "text/html": [
       "<div>\n",
       "<style scoped>\n",
       "    .dataframe tbody tr th:only-of-type {\n",
       "        vertical-align: middle;\n",
       "    }\n",
       "\n",
       "    .dataframe tbody tr th {\n",
       "        vertical-align: top;\n",
       "    }\n",
       "\n",
       "    .dataframe thead th {\n",
       "        text-align: right;\n",
       "    }\n",
       "</style>\n",
       "<table border=\"1\" class=\"dataframe\">\n",
       "  <thead>\n",
       "    <tr style=\"text-align: right;\">\n",
       "      <th></th>\n",
       "      <th>name</th>\n",
       "      <th>platform</th>\n",
       "      <th>year_of_release</th>\n",
       "      <th>genre</th>\n",
       "      <th>na_sales</th>\n",
       "      <th>eu_sales</th>\n",
       "      <th>jp_sales</th>\n",
       "      <th>other_sales</th>\n",
       "      <th>critic_score</th>\n",
       "      <th>user_score</th>\n",
       "      <th>rating</th>\n",
       "      <th>total_sales</th>\n",
       "      <th>mean_score</th>\n",
       "    </tr>\n",
       "  </thead>\n",
       "  <tbody>\n",
       "    <tr>\n",
       "      <th>31</th>\n",
       "      <td>call of duty: black ops 3</td>\n",
       "      <td>ps4</td>\n",
       "      <td>2015</td>\n",
       "      <td>shooter</td>\n",
       "      <td>6.03</td>\n",
       "      <td>5.86</td>\n",
       "      <td>0.36</td>\n",
       "      <td>2.38</td>\n",
       "      <td>NaN</td>\n",
       "      <td>NaN</td>\n",
       "      <td>NaN</td>\n",
       "      <td>14.63</td>\n",
       "      <td>NaN</td>\n",
       "    </tr>\n",
       "    <tr>\n",
       "      <th>42</th>\n",
       "      <td>grand theft auto v</td>\n",
       "      <td>ps4</td>\n",
       "      <td>2014</td>\n",
       "      <td>action</td>\n",
       "      <td>3.96</td>\n",
       "      <td>6.31</td>\n",
       "      <td>0.38</td>\n",
       "      <td>1.97</td>\n",
       "      <td>9.7</td>\n",
       "      <td>8.3</td>\n",
       "      <td>m</td>\n",
       "      <td>12.62</td>\n",
       "      <td>9.00</td>\n",
       "    </tr>\n",
       "    <tr>\n",
       "      <th>77</th>\n",
       "      <td>fifa 16</td>\n",
       "      <td>ps4</td>\n",
       "      <td>2015</td>\n",
       "      <td>sports</td>\n",
       "      <td>1.12</td>\n",
       "      <td>6.12</td>\n",
       "      <td>0.06</td>\n",
       "      <td>1.28</td>\n",
       "      <td>8.2</td>\n",
       "      <td>4.3</td>\n",
       "      <td>e</td>\n",
       "      <td>8.58</td>\n",
       "      <td>6.25</td>\n",
       "    </tr>\n",
       "    <tr>\n",
       "      <th>87</th>\n",
       "      <td>star wars battlefront (2015)</td>\n",
       "      <td>ps4</td>\n",
       "      <td>2015</td>\n",
       "      <td>shooter</td>\n",
       "      <td>2.99</td>\n",
       "      <td>3.49</td>\n",
       "      <td>0.22</td>\n",
       "      <td>1.28</td>\n",
       "      <td>NaN</td>\n",
       "      <td>NaN</td>\n",
       "      <td>NaN</td>\n",
       "      <td>7.98</td>\n",
       "      <td>NaN</td>\n",
       "    </tr>\n",
       "    <tr>\n",
       "      <th>92</th>\n",
       "      <td>call of duty: advanced warfare</td>\n",
       "      <td>ps4</td>\n",
       "      <td>2014</td>\n",
       "      <td>shooter</td>\n",
       "      <td>2.81</td>\n",
       "      <td>3.48</td>\n",
       "      <td>0.14</td>\n",
       "      <td>1.23</td>\n",
       "      <td>8.3</td>\n",
       "      <td>5.7</td>\n",
       "      <td>m</td>\n",
       "      <td>7.66</td>\n",
       "      <td>7.00</td>\n",
       "    </tr>\n",
       "    <tr>\n",
       "      <th>...</th>\n",
       "      <td>...</td>\n",
       "      <td>...</td>\n",
       "      <td>...</td>\n",
       "      <td>...</td>\n",
       "      <td>...</td>\n",
       "      <td>...</td>\n",
       "      <td>...</td>\n",
       "      <td>...</td>\n",
       "      <td>...</td>\n",
       "      <td>...</td>\n",
       "      <td>...</td>\n",
       "      <td>...</td>\n",
       "      <td>...</td>\n",
       "    </tr>\n",
       "    <tr>\n",
       "      <th>16500</th>\n",
       "      <td>root letter</td>\n",
       "      <td>ps4</td>\n",
       "      <td>2016</td>\n",
       "      <td>adventure</td>\n",
       "      <td>0.00</td>\n",
       "      <td>0.00</td>\n",
       "      <td>0.01</td>\n",
       "      <td>0.00</td>\n",
       "      <td>6.9</td>\n",
       "      <td>7.5</td>\n",
       "      <td>NaN</td>\n",
       "      <td>0.01</td>\n",
       "      <td>7.20</td>\n",
       "    </tr>\n",
       "    <tr>\n",
       "      <th>16503</th>\n",
       "      <td>shin hayarigami 2</td>\n",
       "      <td>ps4</td>\n",
       "      <td>2016</td>\n",
       "      <td>adventure</td>\n",
       "      <td>0.00</td>\n",
       "      <td>0.00</td>\n",
       "      <td>0.01</td>\n",
       "      <td>0.00</td>\n",
       "      <td>NaN</td>\n",
       "      <td>NaN</td>\n",
       "      <td>NaN</td>\n",
       "      <td>0.01</td>\n",
       "      <td>NaN</td>\n",
       "    </tr>\n",
       "    <tr>\n",
       "      <th>16526</th>\n",
       "      <td>dungeons 2</td>\n",
       "      <td>ps4</td>\n",
       "      <td>2016</td>\n",
       "      <td>role-playing</td>\n",
       "      <td>0.01</td>\n",
       "      <td>0.00</td>\n",
       "      <td>0.00</td>\n",
       "      <td>0.00</td>\n",
       "      <td>6.1</td>\n",
       "      <td>7.9</td>\n",
       "      <td>t</td>\n",
       "      <td>0.01</td>\n",
       "      <td>7.00</td>\n",
       "    </tr>\n",
       "    <tr>\n",
       "      <th>16530</th>\n",
       "      <td>carmageddon: max damage</td>\n",
       "      <td>ps4</td>\n",
       "      <td>2016</td>\n",
       "      <td>action</td>\n",
       "      <td>0.01</td>\n",
       "      <td>0.00</td>\n",
       "      <td>0.00</td>\n",
       "      <td>0.00</td>\n",
       "      <td>5.1</td>\n",
       "      <td>5.5</td>\n",
       "      <td>m</td>\n",
       "      <td>0.01</td>\n",
       "      <td>5.30</td>\n",
       "    </tr>\n",
       "    <tr>\n",
       "      <th>16585</th>\n",
       "      <td>farming 2017 - the simulation</td>\n",
       "      <td>ps4</td>\n",
       "      <td>2016</td>\n",
       "      <td>simulation</td>\n",
       "      <td>0.00</td>\n",
       "      <td>0.01</td>\n",
       "      <td>0.00</td>\n",
       "      <td>0.00</td>\n",
       "      <td>NaN</td>\n",
       "      <td>NaN</td>\n",
       "      <td>NaN</td>\n",
       "      <td>0.01</td>\n",
       "      <td>NaN</td>\n",
       "    </tr>\n",
       "  </tbody>\n",
       "</table>\n",
       "<p>392 rows × 13 columns</p>\n",
       "</div>"
      ],
      "text/plain": [
       "                                 name platform  year_of_release         genre  \\\n",
       "31          call of duty: black ops 3      ps4             2015       shooter   \n",
       "42                 grand theft auto v      ps4             2014        action   \n",
       "77                            fifa 16      ps4             2015        sports   \n",
       "87       star wars battlefront (2015)      ps4             2015       shooter   \n",
       "92     call of duty: advanced warfare      ps4             2014       shooter   \n",
       "...                               ...      ...              ...           ...   \n",
       "16500                     root letter      ps4             2016     adventure   \n",
       "16503               shin hayarigami 2      ps4             2016     adventure   \n",
       "16526                      dungeons 2      ps4             2016  role-playing   \n",
       "16530         carmageddon: max damage      ps4             2016        action   \n",
       "16585   farming 2017 - the simulation      ps4             2016    simulation   \n",
       "\n",
       "       na_sales  eu_sales  jp_sales  other_sales  critic_score  user_score  \\\n",
       "31         6.03      5.86      0.36         2.38           NaN         NaN   \n",
       "42         3.96      6.31      0.38         1.97           9.7         8.3   \n",
       "77         1.12      6.12      0.06         1.28           8.2         4.3   \n",
       "87         2.99      3.49      0.22         1.28           NaN         NaN   \n",
       "92         2.81      3.48      0.14         1.23           8.3         5.7   \n",
       "...         ...       ...       ...          ...           ...         ...   \n",
       "16500      0.00      0.00      0.01         0.00           6.9         7.5   \n",
       "16503      0.00      0.00      0.01         0.00           NaN         NaN   \n",
       "16526      0.01      0.00      0.00         0.00           6.1         7.9   \n",
       "16530      0.01      0.00      0.00         0.00           5.1         5.5   \n",
       "16585      0.00      0.01      0.00         0.00           NaN         NaN   \n",
       "\n",
       "      rating  total_sales  mean_score  \n",
       "31       NaN        14.63         NaN  \n",
       "42         m        12.62        9.00  \n",
       "77         e         8.58        6.25  \n",
       "87       NaN         7.98         NaN  \n",
       "92         m         7.66        7.00  \n",
       "...      ...          ...         ...  \n",
       "16500    NaN         0.01        7.20  \n",
       "16503    NaN         0.01         NaN  \n",
       "16526      t         0.01        7.00  \n",
       "16530      m         0.01        5.30  \n",
       "16585    NaN         0.01         NaN  \n",
       "\n",
       "[392 rows x 13 columns]"
      ]
     },
     "metadata": {},
     "output_type": "display_data"
    },
    {
     "data": {
      "image/png": "[encoded data removed]",
      "text/plain": [
       "<Figure size 1080x360 with 1 Axes>"
      ]
     },
     "metadata": {},
     "output_type": "display_data"
    }
   ],
   "source": [
    "# Calcula el puntaje promedio entre los puntajes para cada juego\n",
    "games[\"mean_score\"] = games[['critic_score',\n",
    "                             'user_score']].mean(axis=1, skipna=True)\n",
    "\n",
    "# Filtra los juegos que están disponibles en la plataforma PS4\n",
    "games_ps4 = games[games[\"platform\"] == \"ps4\"]\n",
    "\n",
    "# Calcula la correlación entre el puntaje promedio de los juegos y las ventas totales, mostrando el resultado\n",
    "correlation_ps4 = games_ps4['mean_score'].corr(games_ps4['total_sales'])\n",
    "display(f'Correlacion entre el puntaje promedio de los juegos y las ventas totales en la PS4: {\n",
    "        correlation_ps4}')\n",
    "\n",
    "# Filtra los juegos que están disponibles en la plataforma PS4 y que no tienen NA en el promedio del puntaje\n",
    "games_ps4_without_na = games_ps4.dropna(subset=['mean_score'])\n",
    "\n",
    "# Calcula la correlación entre el puntaje promedio de los juegos y las ventas totales, mostrando el resultado\n",
    "correlation_ps4_na = games_ps4_without_na['mean_score'].corr(\n",
    "    games_ps4_without_na['total_sales'])\n",
    "display(f'Correlacion entre el puntaje promedio de los juegos y las ventas totales en la PS4 sin datos nulos: {\n",
    "        correlation_ps4_na}')\n",
    "\n",
    "# Muestra los datos de los juegos de PS4\n",
    "display(games_ps4)\n",
    "\n",
    "# Crea un gráfico de dispersión con los promedio de los puntajes y las ventas totales\n",
    "plt.figure(figsize=(15, 5))\n",
    "sns.scatterplot(x='mean_score', y='total_sales', data=games_ps4,\n",
    "                color='purple', alpha=0.7, edgecolor='black', s=80)\n",
    "\n",
    "# Añade título y etiquetas a los ejes\n",
    "plt.title(\"Ventas en relación con el puntaje promedio de los juegos de PS4\")\n",
    "plt.xlabel(\"Puntaje Promedio\")\n",
    "plt.ylabel(\"Ventas en millones\")\n",
    "\n",
    "# Muestra el gráfico\n",
    "plt.show()"
   ]
  },
  {
   "cell_type": "markdown",
   "metadata": {},
   "source": [
    "En el siguiente diagrama de caja y bigotes se muestran las ventas totales de todos los juegos que comparte la consola PS4 con otras plataformas. En las consolas de Xbox 360, Xbox One, PS3 y PS4 encontramos la mayor cantidad de datos atípicos. Las ventas totales  comprendidas entre el 50% y el 75% de los datos está más dispersa en las consolas antes mencionadas, junto con la PC, WIIU y WII. Las ventas de este grupo de videojuegos en el WII poseen la menor varianza con respecto a las demás consolas. Dicho comportamiento tambien presenta su nueva versión, la WIIU. Por otra parte, encontramos que el comportamiento de las ventas totales entre las consolas de la PS4 y la PS3 son muy similares entre si. Probablemente encontramos que los jugadores de la PS3, buscan si no los mismos juegos, al menos juegos de franquicias conocidas para jugar en la PS4. Por otra parte, hay una cierta diferencia entre las ventas totales entre la Xbox 360 y la Xbox One, esto podría deberse a que apenas se está afianzando la Xbox One entre los consumidores."
   ]
  },
  {
   "cell_type": "code",
   "execution_count": 16,
   "metadata": {},
   "outputs": [
    {
     "data": {
      "image/png": "[encoded data removed]",
      "text/plain": [
       "<Figure size 720x1440 with 1 Axes>"
      ]
     },
     "metadata": {},
     "output_type": "display_data"
    }
   ],
   "source": [
    "# Unir los DataFrames 'games' y 'games_ps4' en base al nombre del juego,\n",
    "# añadiendo sufijos '_all' y '_ps4' para distinguir las columnas\n",
    "same_games_dif_platform = pd.merge(\n",
    "    games, games_ps4, on=\"name\", suffixes=('_all', '_ps4'))\n",
    "\n",
    "# Seleccionar las columnas de interés\n",
    "same_games_dif_platform = same_games_dif_platform[[\n",
    "    'platform_all', \"name\", 'total_sales_all']]\n",
    "\n",
    "# Crear un diagrama de caja (boxplot)\n",
    "plt.figure(figsize=(10, 20))\n",
    "sns.boxplot(x='platform_all', y='total_sales_all',\n",
    "            data=same_games_dif_platform)\n",
    "\n",
    "# Añadir título y etiquetas a los ejes\n",
    "plt.title('Comparación de ventas entre plataformas')\n",
    "plt.xlabel('Plataforma')\n",
    "plt.ylabel('Ventas en millones')\n",
    "\n",
    "# Mostrar el gráfico\n",
    "plt.show()"
   ]
  },
  {
   "cell_type": "markdown",
   "metadata": {},
   "source": [
    "En la siguiente gráfica de barras podemos observar que entre los géneros más rentables se encuentran los de acción, deportes y los de disparos. Una de las razones de esto podría ser la facilidad de que se jueguen dos o más personas al mismo tiempo, permitiendo que sea más atrayente la compra de juegos que permitan conectar entre amistades y conocidos. "
   ]
  },
  {
   "cell_type": "code",
   "execution_count": 17,
   "metadata": {},
   "outputs": [
    {
     "data": {
      "image/png": "[encoded data removed]",
      "text/plain": [
       "<Figure size 1080x720 with 1 Axes>"
      ]
     },
     "metadata": {},
     "output_type": "display_data"
    }
   ],
   "source": [
    "# Agrupamos, sumamos y reiniciamos el indice\n",
    "genre_sale = games.groupby('genre')['total_sales'].sum().reset_index()\n",
    "\n",
    "# Crear una gráfica de barras\n",
    "plt.figure(figsize=(15, 10))\n",
    "sns.barplot(x='genre', y='total_sales', data=genre_sale)\n",
    "\n",
    "# Añadir título y etiquetas a los ejes\n",
    "plt.title('Comparación de ventas entre Géneros')\n",
    "plt.xlabel('Género')\n",
    "plt.ylabel('Ventas en millones')\n",
    "\n",
    "# Mostrar el gráfico\n",
    "plt.show()"
   ]
  },
  {
   "cell_type": "markdown",
   "metadata": {},
   "source": [
    "## Paso 4. Crear un perfil de usuario para cada región"
   ]
  },
  {
   "cell_type": "markdown",
   "metadata": {},
   "source": [
    "Sobre las 5 consolas con mayores ventas en cada región tenemos que hay ciertas diferencias en los 5 lugares aunque PS2 resultó estar entre las 5 consolas con mayores ventas en las tres regiones. Para la región de norteamérica, las cinco plataformas con mayores ventas son Xbox 360, Wii, PS2, PS3 y DS. Para la región de europa, las cinco plataformas son todas las de la región norteamericana a excepción de la DS, que es sustitutida por la PS. En la región Japonesa, las 5 plataformas más populares son la PS, PS2, DS, SNES y 3DS. Dos de las cuales son consolas portátiles, permitiendo una cierta flexibilidad de donde se juega y limitando la potencia de la plataforma.\n",
    "\n",
    "Con esto podríamos suponer que entre las consolas más rentables podrían estar la PS2 (que aparece en el top 5 en todas las regiones) y las consolas que aparecen en el top 5 de dos de las tres regiones: Xbox 360, Wii, PS, PS3 y DS. "
   ]
  },
  {
   "cell_type": "code",
   "execution_count": 18,
   "metadata": {},
   "outputs": [
    {
     "data": {
      "image/png": "[encoded data removed]",
      "text/plain": [
       "<Figure size 1080x720 with 1 Axes>"
      ]
     },
     "metadata": {},
     "output_type": "display_data"
    }
   ],
   "source": [
    "# Calcular las ventas totales por plataforma para cada región\n",
    "platform_sales = games.groupby(\n",
    "    'platform')[['eu_sales', 'jp_sales', 'na_sales']].sum().reset_index()\n",
    "\n",
    "# Convertir el DataFrame de ventas por plataforma en un formato largo (long format)\n",
    "platform_sales = platform_sales.melt(\n",
    "    id_vars=['platform'], var_name='region', value_name='sales')\n",
    "\n",
    "# Crear una gráfica de barras, añadiendo titulo y etiquetas\n",
    "plt.figure(figsize=(15, 10))\n",
    "sns.barplot(x='platform', y='sales', hue='region', data=platform_sales)\n",
    "plt.title('Comparación de ventas entre plataformas y regiones')\n",
    "plt.xlabel('Plataforma')\n",
    "plt.ylabel('Ventas en millones')\n",
    "\n",
    "# Mostrar el gráfico\n",
    "plt.show()"
   ]
  },
  {
   "cell_type": "markdown",
   "metadata": {},
   "source": [
    "En la región norteamericana encontramos que los géneros con mayores ventas son los de acción, deportes, de disparo, de plataforma y los variados (miscellaneous). De manera similar, la región europea posee casi los mismos géneros a excepción de plataforma, que son sustituidos por los de carreras. Y la región japonesa tiene casi los mismos géneros que la región norteamericana a excepción de el de disparos, que son sustituidos por los juegos de rol. En este ultimo, un factor que podría explicar este resultado sería la diferencia en las leyes con respecto a las armas, siendo Japón muy restrictivo en este ambito. "
   ]
  },
  {
   "cell_type": "code",
   "execution_count": 19,
   "metadata": {},
   "outputs": [
    {
     "data": {
      "image/png": "[encoded data removed]",
      "text/plain": [
       "<Figure size 1080x720 with 1 Axes>"
      ]
     },
     "metadata": {},
     "output_type": "display_data"
    }
   ],
   "source": [
    "# Calcular las ventas totales por género para cada región\n",
    "genre_sales = games.groupby(\n",
    "    'genre')[['eu_sales', 'jp_sales', 'na_sales']].sum().reset_index()\n",
    "\n",
    "# Convertir el DataFrame de ventas por género en un formato largo (long format)\n",
    "genre_sales = genre_sales.melt(\n",
    "    id_vars=['genre'], var_name='region', value_name='sales')\n",
    "\n",
    "# Crear una gráfica de barras, añadiendo titulo y etiquetas\n",
    "plt.figure(figsize=(15, 10))\n",
    "sns.barplot(x='genre', y='sales', hue='region', data=genre_sales)\n",
    "plt.title('Comparación de ventas entre géneros y regiones')\n",
    "plt.xlabel('Géneros')\n",
    "plt.ylabel('Ventas en millones')\n",
    "\n",
    "# Mostrar el gráfico\n",
    "plt.show()"
   ]
  },
  {
   "cell_type": "markdown",
   "metadata": {},
   "source": [
    "Las clasificaciones de ESRB no parece afectar las ventas de videojuegos dependiendo de las regiones. Las composiciones son similares entre regiones: la clasificación \"e\" tiene las mayores ventas, le siguen la \"m\", luego la \"t\" y hasta el final \"e10+\".\n",
    "Hay una ligera diferencia entre las ventas de los juegos con clasificaciones \"m\" y \"t\" en la region japonesa, teniendo mayores ventas los juegos para adolescentes (\"t\") que para adultos (\"m\")."
   ]
  },
  {
   "cell_type": "code",
   "execution_count": 20,
   "metadata": {},
   "outputs": [
    {
     "data": {
      "image/png": "[encoded data removed]",
      "text/plain": [
       "<Figure size 1080x720 with 1 Axes>"
      ]
     },
     "metadata": {},
     "output_type": "display_data"
    }
   ],
   "source": [
    "# Calcular las ventas totales por clasificación para cada región\n",
    "rating_sales = games.groupby(\n",
    "    'rating')[['eu_sales', 'jp_sales', 'na_sales']].sum().reset_index()\n",
    "\n",
    "# Convertir el DataFrame de ventas por clasificación en un formato largo (long format)\n",
    "rating_sales = rating_sales.melt(\n",
    "    id_vars=['rating'], var_name='region', value_name='sales')\n",
    "\n",
    "# Crear una gráfica de barras, añadiendo titulo y etiquetas\n",
    "plt.figure(figsize=(15, 10))\n",
    "sns.barplot(x='rating', y='sales', hue='region', data=rating_sales)\n",
    "plt.title('Comparación de ventas entre clasificación y regiones')\n",
    "plt.xlabel('Clasificación')\n",
    "plt.ylabel('Ventas en millones')\n",
    "\n",
    "# Mostrar el gráfico\n",
    "plt.show()"
   ]
  },
  {
   "cell_type": "markdown",
   "metadata": {},
   "source": [
    "## Paso 5. Prueba las siguientes hipótesis:"
   ]
  },
  {
   "cell_type": "markdown",
   "metadata": {},
   "source": [
    "Queremos ver si las calificaciones promedio de los usuarios para las plataformas Xbox One y PC son las mismas. Para verificar esto haremos una prueba de t de student.\n",
    "\n",
    "Primero debemos verificar la similitud estadística de las varianzas de los promedio de los usuarios en ambas plataformas, para poder analizar si las medias de los usuarios son iguales. Para esto tenemos dos hipótesis sobre las varianzas:\n",
    "\n",
    "-Hipótesis nula (H0): No hay diferencia significativa entre las varianzas de los promedios de los usuarios para las plataformas Xbox One y PC.\n",
    "\n",
    "-Hipótesis alternativa (H1): Hay una diferencia significativa entre las varianzas de los promedios de los usuarios para las plataformas Xbox One y PC."
   ]
  },
  {
   "cell_type": "code",
   "execution_count": 21,
   "metadata": {},
   "outputs": [
    {
     "data": {
      "text/plain": [
       "'valor p: '"
      ]
     },
     "metadata": {},
     "output_type": "display_data"
    },
    {
     "data": {
      "text/plain": [
       "0.2693951512047048"
      ]
     },
     "metadata": {},
     "output_type": "display_data"
    },
    {
     "data": {
      "text/plain": [
       "'No podemos rechazar la hipótesis nula con respecto a las varianzas'"
      ]
     },
     "metadata": {},
     "output_type": "display_data"
    }
   ],
   "source": [
    "# Guardamos el promedio que será utilizado para la prueba de t de student y la prueba de Levine.\n",
    "xone_st = games[(games[\"platform\"] == \"xone\")][[\"user_score\"]].dropna()\n",
    "pc_st = games[(games[\"platform\"] == \"pc\")][[\"user_score\"]].dropna()\n",
    "\n",
    "# Hacemos listas de ambos dataframes para la prueba de Levine.\n",
    "xone_st_lv = xone_st[\"user_score\"].tolist()\n",
    "pc_st_lv = pc_st[\"user_score\"].tolist()\n",
    "\n",
    "# Hacemos la prueba de Levine.\n",
    "lv_result = st.levene(xone_st_lv, pc_st_lv)\n",
    "\n",
    "# Determinamos el alpha\n",
    "alpha = 0.05\n",
    "\n",
    "# Extraemos el valor p\n",
    "display('valor p: ', lv_result.pvalue)\n",
    "\n",
    "# Comparamos el valor p con el umbral\n",
    "if lv_result.pvalue < alpha:\n",
    "    display(\"Rechazamos la hipótesis nula con respecto a las varianzas\")\n",
    "else:\n",
    "    display(\"No podemos rechazar la hipótesis nula con respecto a las varianzas\")"
   ]
  },
  {
   "cell_type": "markdown",
   "metadata": {},
   "source": [
    "No podemos rechazar la hipótesis de que las varianzas de ambos grupos son iguales. De tal forma que podemos seguir con la prueba de t de student, donde se asume que las varianzas son iguales.\n",
    "\n",
    "Para esto tenemos dos hipótesis:\n",
    "\n",
    "-Hipótesis nula (H0): No hay diferencia significativa entre las medias de los usuarios para las plataformas Xbox One y PC.\n",
    "\n",
    "-Hipótesis alternativa (H1): Hay una diferencia significativa entre las medias de los usuarios para las plataformas Xbox One y PC.\n",
    "\n",
    "Realizamos la prueba estadística luego de elegir alpha (asegurandonos de poner \"equal_var=True\", para que se relice la prueba de t de student)."
   ]
  },
  {
   "cell_type": "code",
   "execution_count": 22,
   "metadata": {},
   "outputs": [
    {
     "data": {
      "text/plain": [
       "'valor p: '"
      ]
     },
     "metadata": {},
     "output_type": "display_data"
    },
    {
     "data": {
      "text/plain": [
       "1.3896435533548819e-05"
      ]
     },
     "metadata": {},
     "output_type": "display_data"
    },
    {
     "data": {
      "text/plain": [
       "'Rechazamos la hipótesis nula con respecto a las medias'"
      ]
     },
     "metadata": {},
     "output_type": "display_data"
    }
   ],
   "source": [
    "# Prueba de T de student\n",
    "results = st.ttest_ind(xone_st_lv, pc_st_lv, equal_var=True)\n",
    "\n",
    "# Extraemos el valor p\n",
    "display('valor p: ', results.pvalue)\n",
    "\n",
    "# Comparamos el valor p con el umbral\n",
    "if results.pvalue < alpha:\n",
    "    display(\"Rechazamos la hipótesis nula con respecto a las medias\")\n",
    "else:\n",
    "    display(\"No podemos rechazar la hipótesis nula con respecto a las medias\")"
   ]
  },
  {
   "cell_type": "markdown",
   "metadata": {},
   "source": [
    "Rechazamos la hipótesis de que las medias de ambos grupos son iguales. No podemos afirmar que los promedios entre las calificaciones de los usuarios son iguales entre ambas consolas."
   ]
  },
  {
   "cell_type": "markdown",
   "metadata": {},
   "source": [
    "Ahora, queremos saber si las calificaciones promedio de los usuarios para los géneros de Acción y Deportes son distintas. Para verificar esto haremos una prueba de t de student. Si hay una diferencia significativa en las varianzas de ambos grupos, en la prueba de t de student tendremos que agregar \"equal_var=False\" para que se considere una Prueba t de Welch.\n",
    "\n",
    "Primero debemos verificar la similitud estadística de las varianzas de los promedio de los usuarios en ambos géneros, para poder analizar si las medias de los usuarios son iguales. Para esto tenemos dos hipótesis sobre las varianzas:\n",
    "\n",
    "-Hipótesis nula (H0): No hay diferencia significativa entre las varianzas de los promedios de los usuarios de los géneros de Acción y Deportes.\n",
    "\n",
    "-Hipótesis alternativa (H1): Hay una diferencia significativa entre las varianzas de los promedios de los usuarios de los géneros de Acción y Deportes."
   ]
  },
  {
   "cell_type": "code",
   "execution_count": 25,
   "metadata": {},
   "outputs": [
    {
     "data": {
      "text/plain": [
       "'valor p: '"
      ]
     },
     "metadata": {},
     "output_type": "display_data"
    },
    {
     "data": {
      "text/plain": [
       "0.0001736640672727649"
      ]
     },
     "metadata": {},
     "output_type": "display_data"
    },
    {
     "data": {
      "text/plain": [
       "'Rechazamos la hipótesis nula con respecto a las varianzas'"
      ]
     },
     "metadata": {},
     "output_type": "display_data"
    }
   ],
   "source": [
    "# Guardamos el promedio que será utilizado para la prueba de t de student y la prueba de Levine.\n",
    "action_st = games[(games[\"genre\"] == \"action\")][[\"user_score\"]].dropna()\n",
    "sports_st = games[(games[\"genre\"] == \"sports\")][[\"user_score\"]].dropna()\n",
    "\n",
    "# Hacemos listas de ambos dataframes para la prueba de Levine.\n",
    "action_st = action_st[\"user_score\"].tolist()\n",
    "sports_st = sports_st[\"user_score\"].tolist()\n",
    "\n",
    "# Hacemos la prueba de Levine.\n",
    "lv_result_genre = st.levene(action_st, sports_st)\n",
    "\n",
    "alpha = 0.05\n",
    "\n",
    "# Extraemos el valor p\n",
    "display('valor p: ', lv_result_genre.pvalue)\n",
    "\n",
    "# Comparamos el valor p con el umbral\n",
    "if lv_result_genre.pvalue < alpha:\n",
    "    display(\"Rechazamos la hipótesis nula con respecto a las varianzas\")\n",
    "else:\n",
    "    display(\"No podemos rechazar la hipótesis nula con respecto a las varianzas\")"
   ]
  },
  {
   "cell_type": "markdown",
   "metadata": {},
   "source": [
    "Rechazamos la hipótesis de que las varianzas de ambos grupos son iguales. De tal forma que podemos seguir con la prueba de t de Welch, donde se considera que las varianzas no son iguales.\n",
    "\n",
    "Para esto tenemos dos hipótesis:\n",
    "\n",
    "-Hipótesis nula (H0): No hay diferencia significativa entre las medias de los usuarios de los géneros de Acción y Deportes.\n",
    "\n",
    "-Hipótesis alternativa (H1): Hay una diferencia significativa entre las medias de los usuarios de los géneros de Acción y Deportes.\n",
    "\n",
    "Realizamos la prueba estadística luego de elegir alpha (asegurandonos de poner \"equal_var=False\", para que se relice la prueba de t de Welch, debido al resultado de la prueba de Levine en el inciso anterior):"
   ]
  },
  {
   "cell_type": "code",
   "execution_count": 24,
   "metadata": {},
   "outputs": [
    {
     "data": {
      "text/plain": [
       "'valor p: '"
      ]
     },
     "metadata": {},
     "output_type": "display_data"
    },
    {
     "data": {
      "text/plain": [
       "0.11483818791498286"
      ]
     },
     "metadata": {},
     "output_type": "display_data"
    },
    {
     "data": {
      "text/plain": [
       "'No podemos rechazar la hipótesis nula con respecto a las medias'"
      ]
     },
     "metadata": {},
     "output_type": "display_data"
    }
   ],
   "source": [
    "# Prueba de T de student\n",
    "results_genre = st.ttest_ind(action_st, sports_st, equal_var=False)\n",
    "\n",
    "# Extraemos el valor p\n",
    "display('valor p: ', results_genre.pvalue)\n",
    "\n",
    "# Comparamos el valor p con el umbral\n",
    "if results_genre.pvalue < alpha:\n",
    "    display(\"Rechazamos la hipótesis nula con respecto a las medias\")\n",
    "else:\n",
    "    display(\"No podemos rechazar la hipótesis nula con respecto a las medias\")"
   ]
  },
  {
   "cell_type": "markdown",
   "metadata": {},
   "source": [
    "Debido a que no podemos rechazar la hipótesis nula, no podemos afirmar que las calificaciones promedio de los usuarios entre los géneros de acción y deportes sean diferentes."
   ]
  },
  {
   "cell_type": "markdown",
   "metadata": {},
   "source": [
    "## Paso 6. Escribe una conclusión general"
   ]
  },
  {
   "cell_type": "markdown",
   "metadata": {},
   "source": [
    "En este periodo de tiempo que abarca hasta mediados del 2016, podemos observar que el cenit de las ventas en videojuegos, en las consolas ya establecidas ha pasado. Los juegos en las consolas podrían estar compitiendo con la aparición de los teléfonos inteligentes y los videojuegos en los mismos, aunque cabe recalcar que no poseemos la información de todas las plataformas, como es el caso de Steam. Puede ser que las ventas de videojuegos no han disminuido, solo se han diversificado en otras consolas. \n",
    "\n",
    "En lo que resta del 2016 y en años posteriores, es posible que no veamos las mismas ganancias que las antiguas consolas obtuvieron. La PS3 y PS4 no han podido ganarle a las ganancias de la PS2, de la misma forma que la Xbox One no ha podido competir con las de la Xbox 360, ni la Wii U con respecto a las ventas de la Wii. En el caso especifico de la PS4, donde apenas ha tenido 3 años, podemos esperar un aumento y mantenimiento en las ventas de videojuegos por al menos 5.5 años. \n",
    "\n",
    "Si en los proximos años, tanto xbox One como PS4 se enfocan en sacar juegos de los géneros más rentables (acción, deportes y los de disparos), será necesario que puedan facilitar que los jugadores puedan jugar con otras personas al mismo tiempo, ya sea de manera online, por ejemplo. Si deciden irse por la vía online se haría indispensable que todos los jugadores compren el juego y posean una consola, lo cual podría aumentar las ganancias de las empresas. Claro, esto pensandolo en lo observado en su mayoría en el mercado Norteamericano y Europeo. "
   ]
  }
 ],
 "metadata": {
  "kernelspec": {
   "display_name": "Python 3 (ipykernel)",
   "language": "python",
   "name": "python3"
  },
  "language_info": {
   "codemirror_mode": {
    "name": "ipython",
    "version": 3
   },
   "file_extension": ".py",
   "mimetype": "text/x-python",
   "name": "python",
   "nbconvert_exporter": "python",
   "pygments_lexer": "ipython3",
   "version": "3.9.19"
  },
  "toc": {
   "base_numbering": 1,
   "nav_menu": {},
   "number_sections": true,
   "sideBar": true,
   "skip_h1_title": true,
   "title_cell": "Table of Contents",
   "title_sidebar": "Contents",
   "toc_cell": true,
   "toc_position": {
    "height": "calc(100% - 180px)",
    "left": "10px",
    "top": "150px",
    "width": "165px"
   },
   "toc_section_display": true,
   "toc_window_display": true
  }
 },
 "nbformat": 4,
 "nbformat_minor": 2
}
